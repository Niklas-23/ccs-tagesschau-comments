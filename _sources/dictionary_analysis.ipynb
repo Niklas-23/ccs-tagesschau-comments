{
 "cells": [
  {
   "cell_type": "markdown",
   "source": [
    "# Dictionary Analysis"
   ],
   "metadata": {
    "collapsed": false,
    "pycharm": {
     "name": "#%% md\n"
    }
   }
  },
  {
   "cell_type": "code",
   "execution_count": 17,
   "outputs": [],
   "source": [
    "import pandas as pd\n",
    "from tqdm import tqdm"
   ],
   "metadata": {
    "collapsed": false,
    "pycharm": {
     "name": "#%%\n"
    }
   }
  },
  {
   "cell_type": "code",
   "execution_count": 18,
   "outputs": [
    {
     "data": {
      "text/plain": "                       term category_code        category_de     category_en  \\\n0                    -etage          SCAN    Skandalisierung  Scandalization   \n1                   #abgase          SCAN    Skandalisierung  Scandalization   \n2        #kreuzfahrtschiffe          SCAN    Skandalisierung  Scandalization   \n3      #schwerölverbrennung          SCAN    Skandalisierung  Scandalization   \n4            #umweltskandal          SCAN    Skandalisierung  Scandalization   \n...                     ...           ...                ...             ...   \n14100     wurzelrassenlehre           ESO  (Rechts-)Esoterik     Esotericism   \n14101                z-plan           ESO  (Rechts-)Esoterik     Esotericism   \n14102          zahlenmystik           ESO  (Rechts-)Esoterik     Esotericism   \n14103           zeitenwende           ESO  (Rechts-)Esoterik     Esotericism   \n14104         zentralwillen           ESO  (Rechts-)Esoterik     Esotericism   \n\n       dereko_frequency  \n0                   NaN  \n1                   NaN  \n2                   NaN  \n3                   NaN  \n4                   NaN  \n...                 ...  \n14100               NaN  \n14101               NaN  \n14102               NaN  \n14103  9810,00000000000  \n14104               NaN  \n\n[14105 rows x 5 columns]",
      "text/html": "<div>\n<style scoped>\n    .dataframe tbody tr th:only-of-type {\n        vertical-align: middle;\n    }\n\n    .dataframe tbody tr th {\n        vertical-align: top;\n    }\n\n    .dataframe thead th {\n        text-align: right;\n    }\n</style>\n<table border=\"1\" class=\"dataframe\">\n  <thead>\n    <tr style=\"text-align: right;\">\n      <th></th>\n      <th>term</th>\n      <th>category_code</th>\n      <th>category_de</th>\n      <th>category_en</th>\n      <th>dereko_frequency</th>\n    </tr>\n  </thead>\n  <tbody>\n    <tr>\n      <th>0</th>\n      <td>-etage</td>\n      <td>SCAN</td>\n      <td>Skandalisierung</td>\n      <td>Scandalization</td>\n      <td>NaN</td>\n    </tr>\n    <tr>\n      <th>1</th>\n      <td>#abgase</td>\n      <td>SCAN</td>\n      <td>Skandalisierung</td>\n      <td>Scandalization</td>\n      <td>NaN</td>\n    </tr>\n    <tr>\n      <th>2</th>\n      <td>#kreuzfahrtschiffe</td>\n      <td>SCAN</td>\n      <td>Skandalisierung</td>\n      <td>Scandalization</td>\n      <td>NaN</td>\n    </tr>\n    <tr>\n      <th>3</th>\n      <td>#schwerölverbrennung</td>\n      <td>SCAN</td>\n      <td>Skandalisierung</td>\n      <td>Scandalization</td>\n      <td>NaN</td>\n    </tr>\n    <tr>\n      <th>4</th>\n      <td>#umweltskandal</td>\n      <td>SCAN</td>\n      <td>Skandalisierung</td>\n      <td>Scandalization</td>\n      <td>NaN</td>\n    </tr>\n    <tr>\n      <th>...</th>\n      <td>...</td>\n      <td>...</td>\n      <td>...</td>\n      <td>...</td>\n      <td>...</td>\n    </tr>\n    <tr>\n      <th>14100</th>\n      <td>wurzelrassenlehre</td>\n      <td>ESO</td>\n      <td>(Rechts-)Esoterik</td>\n      <td>Esotericism</td>\n      <td>NaN</td>\n    </tr>\n    <tr>\n      <th>14101</th>\n      <td>z-plan</td>\n      <td>ESO</td>\n      <td>(Rechts-)Esoterik</td>\n      <td>Esotericism</td>\n      <td>NaN</td>\n    </tr>\n    <tr>\n      <th>14102</th>\n      <td>zahlenmystik</td>\n      <td>ESO</td>\n      <td>(Rechts-)Esoterik</td>\n      <td>Esotericism</td>\n      <td>NaN</td>\n    </tr>\n    <tr>\n      <th>14103</th>\n      <td>zeitenwende</td>\n      <td>ESO</td>\n      <td>(Rechts-)Esoterik</td>\n      <td>Esotericism</td>\n      <td>9810,00000000000</td>\n    </tr>\n    <tr>\n      <th>14104</th>\n      <td>zentralwillen</td>\n      <td>ESO</td>\n      <td>(Rechts-)Esoterik</td>\n      <td>Esotericism</td>\n      <td>NaN</td>\n    </tr>\n  </tbody>\n</table>\n<p>14105 rows × 5 columns</p>\n</div>"
     },
     "execution_count": 18,
     "metadata": {},
     "output_type": "execute_result"
    }
   ],
   "source": [
    "rpx_dict = pd.read_csv(\"dictionary_analysis/rpc_lex.csv\", delimiter=\";\")\n",
    "rpx_dict"
   ],
   "metadata": {
    "collapsed": false,
    "pycharm": {
     "name": "#%%\n"
    }
   }
  },
  {
   "cell_type": "code",
   "execution_count": 45,
   "outputs": [],
   "source": [
    "def get_dictionary_analysis_term_occurence(text: list):\n",
    "    term_occurrence = 0\n",
    "    identified_terms = []\n",
    "    for term in rpx_dict.term.to_list():\n",
    "        if term in text:\n",
    "            term_occurrence+=1\n",
    "            identified_terms.append((term))\n",
    "    return term_occurrence, identified_terms"
   ],
   "metadata": {
    "collapsed": false,
    "pycharm": {
     "name": "#%%\n"
    }
   }
  },
  {
   "cell_type": "code",
   "execution_count": 46,
   "outputs": [
    {
     "name": "stderr",
     "output_type": "stream",
     "text": [
      "100%|██████████| 406242/406242 [12:41<00:00, 533.82it/s]\n"
     ]
    }
   ],
   "source": [
    "comments = pd.read_csv(\"data/youtube_comments_500.csv\")\n",
    "comments[\"Comments\"] = comments[\"Comments\"].astype(str)\n",
    "dict_term_occurrence_list = []\n",
    "dict_identified_terms_list = []\n",
    "\n",
    "for text in tqdm(comments.Comments.to_list()):\n",
    "    occurence, identified_terms = get_dictionary_analysis_term_occurence(text)\n",
    "    dict_term_occurrence_list.append(occurence)\n",
    "    dict_identified_terms_list.append(identified_terms)"
   ],
   "metadata": {
    "collapsed": false,
    "pycharm": {
     "name": "#%%\n"
    }
   }
  },
  {
   "cell_type": "code",
   "execution_count": 48,
   "outputs": [
    {
     "data": {
      "text/plain": "        Unnamed: 0                                           Comments  \\\n0                0  wollt ihr jetzt jeden tag einen großen bericht...   \n1                1  Wenn Scholz alles besser weiss, wieso braucht ...   \n2                2  Die Grünen hatten Früher das Peace Zeichen als...   \n3                3  Der Westen ist ein Kriegstreiber bis es zu ein...   \n4                4                      Frieden schaffen ohne Waffen.   \n...            ...                                                ...   \n406237      406237  Kann jeder deutscher werden ,kein Problem sola...   \n406238      406238  Dann nimm die Leute bei dir auf und verpflege ...   \n406239      406239  🙄🤔als Staatenloser hatt mans aber auch nicht l...   \n406240      406240  Wann kommt der Blackout? Kinder könnt ihr ja e...   \n406241      406241  Den Blackout auf den du wartest, wird es nur g...   \n\n        dict_term_occurrence  \\\n0                         33   \n1                         20   \n2                         22   \n3                         29   \n4                          4   \n...                      ...   \n406237                    59   \n406238                     4   \n406239                     7   \n406240                    22   \n406241                    11   \n\n                               dict_identified_terms_list  \n0       [ganz, große, großen, bericht, ganz, großen, s...  \n1       [brauch, braucht, weiss, wieso, wie, wieso, be...  \n2       [heute, wen, wenig, heute, wächst, heute, weni...  \n3       [kommt, krieg, lange, weit, kommt, lange, mach...  \n4                   [schaf, schaffen, schaffen, schaffen]  \n...                                                   ...  \n406237  [arbeit, gehen, lange, deutsche, lange, überwa...  \n406238                             [halt, eu, halt, halt]  \n406239     [treiben, stimmt, treiben, ss, nich, nich, tt]  \n406240  [kommt, kommt, schützen, kommt, kommt, kommt, ...  \n406241  [eben, wen, eben, geben, geben, eben, eben, ge...  \n\n[368240 rows x 4 columns]",
      "text/html": "<div>\n<style scoped>\n    .dataframe tbody tr th:only-of-type {\n        vertical-align: middle;\n    }\n\n    .dataframe tbody tr th {\n        vertical-align: top;\n    }\n\n    .dataframe thead th {\n        text-align: right;\n    }\n</style>\n<table border=\"1\" class=\"dataframe\">\n  <thead>\n    <tr style=\"text-align: right;\">\n      <th></th>\n      <th>Unnamed: 0</th>\n      <th>Comments</th>\n      <th>dict_term_occurrence</th>\n      <th>dict_identified_terms_list</th>\n    </tr>\n  </thead>\n  <tbody>\n    <tr>\n      <th>0</th>\n      <td>0</td>\n      <td>wollt ihr jetzt jeden tag einen großen bericht...</td>\n      <td>33</td>\n      <td>[ganz, große, großen, bericht, ganz, großen, s...</td>\n    </tr>\n    <tr>\n      <th>1</th>\n      <td>1</td>\n      <td>Wenn Scholz alles besser weiss, wieso braucht ...</td>\n      <td>20</td>\n      <td>[brauch, braucht, weiss, wieso, wie, wieso, be...</td>\n    </tr>\n    <tr>\n      <th>2</th>\n      <td>2</td>\n      <td>Die Grünen hatten Früher das Peace Zeichen als...</td>\n      <td>22</td>\n      <td>[heute, wen, wenig, heute, wächst, heute, weni...</td>\n    </tr>\n    <tr>\n      <th>3</th>\n      <td>3</td>\n      <td>Der Westen ist ein Kriegstreiber bis es zu ein...</td>\n      <td>29</td>\n      <td>[kommt, krieg, lange, weit, kommt, lange, mach...</td>\n    </tr>\n    <tr>\n      <th>4</th>\n      <td>4</td>\n      <td>Frieden schaffen ohne Waffen.</td>\n      <td>4</td>\n      <td>[schaf, schaffen, schaffen, schaffen]</td>\n    </tr>\n    <tr>\n      <th>...</th>\n      <td>...</td>\n      <td>...</td>\n      <td>...</td>\n      <td>...</td>\n    </tr>\n    <tr>\n      <th>406237</th>\n      <td>406237</td>\n      <td>Kann jeder deutscher werden ,kein Problem sola...</td>\n      <td>59</td>\n      <td>[arbeit, gehen, lange, deutsche, lange, überwa...</td>\n    </tr>\n    <tr>\n      <th>406238</th>\n      <td>406238</td>\n      <td>Dann nimm die Leute bei dir auf und verpflege ...</td>\n      <td>4</td>\n      <td>[halt, eu, halt, halt]</td>\n    </tr>\n    <tr>\n      <th>406239</th>\n      <td>406239</td>\n      <td>🙄🤔als Staatenloser hatt mans aber auch nicht l...</td>\n      <td>7</td>\n      <td>[treiben, stimmt, treiben, ss, nich, nich, tt]</td>\n    </tr>\n    <tr>\n      <th>406240</th>\n      <td>406240</td>\n      <td>Wann kommt der Blackout? Kinder könnt ihr ja e...</td>\n      <td>22</td>\n      <td>[kommt, kommt, schützen, kommt, kommt, kommt, ...</td>\n    </tr>\n    <tr>\n      <th>406241</th>\n      <td>406241</td>\n      <td>Den Blackout auf den du wartest, wird es nur g...</td>\n      <td>11</td>\n      <td>[eben, wen, eben, geben, geben, eben, eben, ge...</td>\n    </tr>\n  </tbody>\n</table>\n<p>368240 rows × 4 columns</p>\n</div>"
     },
     "execution_count": 48,
     "metadata": {},
     "output_type": "execute_result"
    }
   ],
   "source": [
    "comments[\"dict_term_occurrence\"] = dict_term_occurrence_list\n",
    "comments[\"dict_identified_terms_list\"] = dict_identified_terms_list\n",
    "comments.loc[comments['dict_term_occurrence'] > 0]"
   ],
   "metadata": {
    "collapsed": false,
    "pycharm": {
     "name": "#%%\n"
    }
   }
  },
  {
   "cell_type": "code",
   "execution_count": 63,
   "outputs": [
    {
     "data": {
      "text/plain": "array([[<AxesSubplot: title={'center': 'dict_term_occurrence'}>]],\n      dtype=object)"
     },
     "execution_count": 63,
     "metadata": {},
     "output_type": "execute_result"
    },
    {
     "data": {
      "text/plain": "<Figure size 640x480 with 1 Axes>",
      "image/png": "[encoded data removed]"
     },
     "metadata": {},
     "output_type": "display_data"
    }
   ],
   "source": [
    "comments.hist(column=\"dict_term_occurrence\", legend=True, bins=50, range=[0,100])"
   ],
   "metadata": {
    "collapsed": false,
    "pycharm": {
     "name": "#%%\n"
    }
   }
  }
 ],
 "metadata": {
  "kernelspec": {
   "display_name": "Python 3",
   "language": "python",
   "name": "python3"
  },
  "language_info": {
   "codemirror_mode": {
    "name": "ipython",
    "version": 2
   },
   "file_extension": ".py",
   "mimetype": "text/x-python",
   "name": "python",
   "nbconvert_exporter": "python",
   "pygments_lexer": "ipython2",
   "version": "2.7.6"
  }
 },
 "nbformat": 4,
 "nbformat_minor": 0
}