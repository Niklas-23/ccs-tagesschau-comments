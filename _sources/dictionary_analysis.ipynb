{
 "cells": [
  {
   "cell_type": "markdown",
   "source": [
    "# Dictionary Analysis\n",
    "\n",
    "The second method uses dictionary analysis to identify and count comments from lateral thinkers. The dictionary analysis is a very simple method and is derived from sentiment analysis. Due to the simplicity of the model, the results must be critically examined and questioned at the end. For example, due to the bag-of-words representation in the model, we cannot take negations into account, which can lead to misleading results.\n",
    "\n",
    "The dictionary used is the RPX-Lex dictionary, which was developed to measure german right-wing populist conspiracy discourse {cite:p}`rpc_lex_dictionary`. The dictionary contains 14,105 terms which are divided into 13 categories, such as Suspicion, Antisemitism or Esotericism {cite:p}`rpc_lex_dictionary`. It should be noted, that some terms appear in more than one category, as they are assigned to several categories. This circumstance will be taken into account later in the analysis so that hits are not counted twice.\n",
    "\n",
    "First, we load the dictionary and as we can see, it contains 14,105 terms as stated in the paper."
   ],
   "metadata": {
    "collapsed": false,
    "pycharm": {
     "name": "#%% md\n"
    }
   }
  },
  {
   "cell_type": "code",
   "execution_count": null,
   "outputs": [],
   "source": [
    "import pandas as pd\n",
    "from cleantext import clean\n",
    "from tqdm import tqdm"
   ],
   "metadata": {
    "collapsed": false,
    "pycharm": {
     "name": "#%%\n",
     "is_executing": true
    }
   }
  },
  {
   "cell_type": "code",
   "execution_count": 3,
   "outputs": [
    {
     "data": {
      "text/plain": "                       term     category_en\n0                    -etage  Scandalization\n1                   #abgase  Scandalization\n2        #kreuzfahrtschiffe  Scandalization\n3      #schwerölverbrennung  Scandalization\n4            #umweltskandal  Scandalization\n...                     ...             ...\n14100     wurzelrassenlehre     Esotericism\n14101                z-plan     Esotericism\n14102          zahlenmystik     Esotericism\n14103           zeitenwende     Esotericism\n14104         zentralwillen     Esotericism\n\n[14105 rows x 2 columns]",
      "text/html": "<div>\n<style scoped>\n    .dataframe tbody tr th:only-of-type {\n        vertical-align: middle;\n    }\n\n    .dataframe tbody tr th {\n        vertical-align: top;\n    }\n\n    .dataframe thead th {\n        text-align: right;\n    }\n</style>\n<table border=\"1\" class=\"dataframe\">\n  <thead>\n    <tr style=\"text-align: right;\">\n      <th></th>\n      <th>term</th>\n      <th>category_en</th>\n    </tr>\n  </thead>\n  <tbody>\n    <tr>\n      <th>0</th>\n      <td>-etage</td>\n      <td>Scandalization</td>\n    </tr>\n    <tr>\n      <th>1</th>\n      <td>#abgase</td>\n      <td>Scandalization</td>\n    </tr>\n    <tr>\n      <th>2</th>\n      <td>#kreuzfahrtschiffe</td>\n      <td>Scandalization</td>\n    </tr>\n    <tr>\n      <th>3</th>\n      <td>#schwerölverbrennung</td>\n      <td>Scandalization</td>\n    </tr>\n    <tr>\n      <th>4</th>\n      <td>#umweltskandal</td>\n      <td>Scandalization</td>\n    </tr>\n    <tr>\n      <th>...</th>\n      <td>...</td>\n      <td>...</td>\n    </tr>\n    <tr>\n      <th>14100</th>\n      <td>wurzelrassenlehre</td>\n      <td>Esotericism</td>\n    </tr>\n    <tr>\n      <th>14101</th>\n      <td>z-plan</td>\n      <td>Esotericism</td>\n    </tr>\n    <tr>\n      <th>14102</th>\n      <td>zahlenmystik</td>\n      <td>Esotericism</td>\n    </tr>\n    <tr>\n      <th>14103</th>\n      <td>zeitenwende</td>\n      <td>Esotericism</td>\n    </tr>\n    <tr>\n      <th>14104</th>\n      <td>zentralwillen</td>\n      <td>Esotericism</td>\n    </tr>\n  </tbody>\n</table>\n<p>14105 rows × 2 columns</p>\n</div>"
     },
     "metadata": {},
     "output_type": "display_data"
    }
   ],
   "source": [
    "rpx_dict = pd.read_csv(\"dictionary_analysis/rpc_lex.csv\", delimiter=\";\")\n",
    "display(rpx_dict[[\"term\", 'category_en']])"
   ],
   "metadata": {
    "collapsed": false,
    "pycharm": {
     "name": "#%%\n"
    }
   }
  },
  {
   "cell_type": "code",
   "execution_count": 8,
   "outputs": [],
   "source": [
    "def get_dictionary_analysis_term_occurence(text: str):\n",
    "    term_occurrence = 0\n",
    "    identified_terms = []\n",
    "    text_tokens = set(text.split(\" \"))\n",
    "    for term in rpx_dict.term.to_list():\n",
    "        if term in identified_terms:\n",
    "            continue # Skip terms that have already been identified but occur in multiple categories\n",
    "\n",
    "        if \" \" in term:\n",
    "            if term in text: # Dictionary term consists of several words\n",
    "                term_occurrence+=1\n",
    "                identified_terms.append(term)\n",
    "        else:\n",
    "            if term in text_tokens: # Dictionary term is a single word\n",
    "                term_occurrence+=1\n",
    "                identified_terms.append(term)\n",
    "    return term_occurrence, identified_terms"
   ],
   "metadata": {
    "collapsed": false,
    "pycharm": {
     "name": "#%%\n"
    }
   }
  },
  {
   "cell_type": "code",
   "execution_count": 6,
   "outputs": [],
   "source": [
    "comments_df = pd.read_csv(\"data/youtube_comments_500.csv\")\n",
    "comments_df[\"Comments\"] = comments_df[\"Comments\"].astype(str)\n",
    "\n",
    "def clean_text(text:str):\n",
    "    text = clean(text, no_emoji=True, lang=\"de\")\n",
    "    new_text = []\n",
    "    for token in text.split(\" \"):\n",
    "        if not token.startswith('@') and not token.startswith('http'):\n",
    "            new_text.append(token)\n",
    "    return \" \".join(new_text)\n",
    "\n",
    "comments_df[\"Comments\"] = comments_df[\"Comments\"].apply(lambda text: clean_text(text))\n",
    "comments_df = comments_df[comments_df.Comments != \"\"]"
   ],
   "metadata": {
    "collapsed": false,
    "pycharm": {
     "name": "#%%\n"
    }
   }
  },
  {
   "cell_type": "code",
   "execution_count": 9,
   "outputs": [
    {
     "name": "stderr",
     "output_type": "stream",
     "text": [
      "100%|██████████| 401282/401282 [07:11<00:00, 930.61it/s] \n"
     ]
    }
   ],
   "source": [
    "dict_term_occurrence_list = []\n",
    "dict_identified_terms_list = []\n",
    "\n",
    "for text in tqdm(comments_df.Comments.to_list()):\n",
    "    occurrence_counter, identified_terms_list = get_dictionary_analysis_term_occurence(text)\n",
    "    dict_term_occurrence_list.append(occurrence_counter)\n",
    "    dict_identified_terms_list.append(identified_terms_list)\n",
    "\n",
    "comments_df[\"dict_term_occurrence\"] = dict_term_occurrence_list\n",
    "comments_df[\"dict_identified_terms_list\"] = dict_identified_terms_list"
   ],
   "metadata": {
    "collapsed": false,
    "pycharm": {
     "name": "#%%\n"
    }
   }
  },
  {
   "cell_type": "code",
   "execution_count": 20,
   "outputs": [
    {
     "data": {
      "text/plain": "        Unnamed: 0                                           Comments  \\\n0                0  wollt ihr jetzt jeden tag einen großen bericht...   \n1                1  wenn scholz alles besser weiss, wieso braucht ...   \n2                2  die grünen hatten früher das peace zeichen als...   \n3                3  der westen ist ein kriegstreiber bis es zu ein...   \n4                4                      frieden schaffen ohne waffen.   \n...            ...                                                ...   \n406236      406236  was die union wieder will, die leute sind doch...   \n406237      406237  kann jeder deutscher werden ,kein problem sola...   \n406238      406238  dann nimm die leute bei dir auf und verpflege ...   \n406239      406239  als staatenloser hatt mans aber auch nicht lei...   \n406240      406240  wann kommt der blackout? kinder könnt ihr ja e...   \n\n        dict_term_occurrence  \\\n0                          7   \n1                          3   \n2                          9   \n3                          6   \n4                          2   \n...                      ...   \n406236                    10   \n406237                     9   \n406238                     1   \n406239                     1   \n406240                     4   \n\n                               dict_identified_terms_list  \n0       [ganz, großen, bericht, schön, panzer, sinnlos...  \n1                                [braucht, wieso, besser]  \n2       [grünen, heute, militär, panzer, wächst, frühe...  \n3       [kommt, lange, idioten, kriegstreiber, westen,...  \n4                                     [schaffen, frieden]  \n...                                                   ...  \n406236  [land, leute, sollen, sowieso, wäre, brauchen,...  \n406237  [gehen, deutsche, überwacht, irgendwelche, arb...  \n406238                                            [leute]  \n406239                                           [stimmt]  \n406240                       [kinder, kommt, wann, könnt]  \n\n[345620 rows x 4 columns]",
      "text/html": "<div>\n<style scoped>\n    .dataframe tbody tr th:only-of-type {\n        vertical-align: middle;\n    }\n\n    .dataframe tbody tr th {\n        vertical-align: top;\n    }\n\n    .dataframe thead th {\n        text-align: right;\n    }\n</style>\n<table border=\"1\" class=\"dataframe\">\n  <thead>\n    <tr style=\"text-align: right;\">\n      <th></th>\n      <th>Unnamed: 0</th>\n      <th>Comments</th>\n      <th>dict_term_occurrence</th>\n      <th>dict_identified_terms_list</th>\n    </tr>\n  </thead>\n  <tbody>\n    <tr>\n      <th>0</th>\n      <td>0</td>\n      <td>wollt ihr jetzt jeden tag einen großen bericht...</td>\n      <td>7</td>\n      <td>[ganz, großen, bericht, schön, panzer, sinnlos...</td>\n    </tr>\n    <tr>\n      <th>1</th>\n      <td>1</td>\n      <td>wenn scholz alles besser weiss, wieso braucht ...</td>\n      <td>3</td>\n      <td>[braucht, wieso, besser]</td>\n    </tr>\n    <tr>\n      <th>2</th>\n      <td>2</td>\n      <td>die grünen hatten früher das peace zeichen als...</td>\n      <td>9</td>\n      <td>[grünen, heute, militär, panzer, wächst, frühe...</td>\n    </tr>\n    <tr>\n      <th>3</th>\n      <td>3</td>\n      <td>der westen ist ein kriegstreiber bis es zu ein...</td>\n      <td>6</td>\n      <td>[kommt, lange, idioten, kriegstreiber, westen,...</td>\n    </tr>\n    <tr>\n      <th>4</th>\n      <td>4</td>\n      <td>frieden schaffen ohne waffen.</td>\n      <td>2</td>\n      <td>[schaffen, frieden]</td>\n    </tr>\n    <tr>\n      <th>...</th>\n      <td>...</td>\n      <td>...</td>\n      <td>...</td>\n      <td>...</td>\n    </tr>\n    <tr>\n      <th>406236</th>\n      <td>406236</td>\n      <td>was die union wieder will, die leute sind doch...</td>\n      <td>10</td>\n      <td>[land, leute, sollen, sowieso, wäre, brauchen,...</td>\n    </tr>\n    <tr>\n      <th>406237</th>\n      <td>406237</td>\n      <td>kann jeder deutscher werden ,kein problem sola...</td>\n      <td>9</td>\n      <td>[gehen, deutsche, überwacht, irgendwelche, arb...</td>\n    </tr>\n    <tr>\n      <th>406238</th>\n      <td>406238</td>\n      <td>dann nimm die leute bei dir auf und verpflege ...</td>\n      <td>1</td>\n      <td>[leute]</td>\n    </tr>\n    <tr>\n      <th>406239</th>\n      <td>406239</td>\n      <td>als staatenloser hatt mans aber auch nicht lei...</td>\n      <td>1</td>\n      <td>[stimmt]</td>\n    </tr>\n    <tr>\n      <th>406240</th>\n      <td>406240</td>\n      <td>wann kommt der blackout? kinder könnt ihr ja e...</td>\n      <td>4</td>\n      <td>[kinder, kommt, wann, könnt]</td>\n    </tr>\n  </tbody>\n</table>\n<p>345620 rows × 4 columns</p>\n</div>"
     },
     "metadata": {},
     "output_type": "display_data"
    }
   ],
   "source": [
    "display(comments_df.loc[comments_df['dict_term_occurrence'] > 0])"
   ],
   "metadata": {
    "collapsed": false,
    "pycharm": {
     "name": "#%%\n"
    }
   }
  },
  {
   "cell_type": "code",
   "execution_count": 16,
   "outputs": [
    {
     "data": {
      "text/plain": "array([[<AxesSubplot: title={'center': 'dict_term_occurrence'}>]],\n      dtype=object)"
     },
     "execution_count": 16,
     "metadata": {},
     "output_type": "execute_result"
    },
    {
     "data": {
      "text/plain": "<Figure size 640x480 with 1 Axes>",
      "image/png": "[encoded data removed]"
     },
     "metadata": {},
     "output_type": "display_data"
    }
   ],
   "source": [
    "comments_df.hist(column=\"dict_term_occurrence\", legend=True, bins=50, range=[0,50])"
   ],
   "metadata": {
    "collapsed": false,
    "pycharm": {
     "name": "#%%\n"
    }
   }
  },
  {
   "cell_type": "code",
   "execution_count": 33,
   "outputs": [
    {
     "data": {
      "text/plain": "        Unnamed: 0                                           Comments  \\\n0                0  wollt ihr jetzt jeden tag einen großen bericht...   \n2                2  die grünen hatten früher das peace zeichen als...   \n3                3  der westen ist ein kriegstreiber bis es zu ein...   \n7                7  donnor, beweis deine behauptung, die ukraine w...   \n10              10  der fraktionslose bundestagsabgeordnete robert...   \n...            ...                                                ...   \n406222      406222  und außerdem kann sich jeder im krankenhaus be...   \n406223      406223  du hast es nicht verstanden junge ..\\ndie ampe...   \n406233      406233  deutschland hat fertig!\\nausbildung fehlanzeig...   \n406236      406236  was die union wieder will, die leute sind doch...   \n406237      406237  kann jeder deutscher werden ,kein problem sola...   \n\n        dict_term_occurrence  \\\n0                          7   \n2                          9   \n3                          6   \n7                          5   \n10                        12   \n...                      ...   \n406222                     5   \n406223                     7   \n406233                     5   \n406236                    10   \n406237                     9   \n\n                               dict_identified_terms_list  \n0       [ganz, großen, bericht, schön, panzer, sinnlos...  \n2       [grünen, heute, militär, panzer, wächst, frühe...  \n3       [kommt, lange, idioten, kriegstreiber, westen,...  \n7       [deutschland, beweis, ukraine, wagenknecht, so...  \n10      [eigenen, geht, politische, traut, dabei, klar...  \n...                                                   ...  \n406222             [kohle, lassen, völlig, sachen, außer]  \n406223  [deutschland, junge, hast, leben, arbeiten, eu...  \n406233    [deutschland, gerne, unsere, bestimmt, rentner]  \n406236  [land, leute, sollen, sowieso, wäre, brauchen,...  \n406237  [gehen, deutsche, überwacht, irgendwelche, arb...  \n\n[133700 rows x 4 columns]",
      "text/html": "<div>\n<style scoped>\n    .dataframe tbody tr th:only-of-type {\n        vertical-align: middle;\n    }\n\n    .dataframe tbody tr th {\n        vertical-align: top;\n    }\n\n    .dataframe thead th {\n        text-align: right;\n    }\n</style>\n<table border=\"1\" class=\"dataframe\">\n  <thead>\n    <tr style=\"text-align: right;\">\n      <th></th>\n      <th>Unnamed: 0</th>\n      <th>Comments</th>\n      <th>dict_term_occurrence</th>\n      <th>dict_identified_terms_list</th>\n    </tr>\n  </thead>\n  <tbody>\n    <tr>\n      <th>0</th>\n      <td>0</td>\n      <td>wollt ihr jetzt jeden tag einen großen bericht...</td>\n      <td>7</td>\n      <td>[ganz, großen, bericht, schön, panzer, sinnlos...</td>\n    </tr>\n    <tr>\n      <th>2</th>\n      <td>2</td>\n      <td>die grünen hatten früher das peace zeichen als...</td>\n      <td>9</td>\n      <td>[grünen, heute, militär, panzer, wächst, frühe...</td>\n    </tr>\n    <tr>\n      <th>3</th>\n      <td>3</td>\n      <td>der westen ist ein kriegstreiber bis es zu ein...</td>\n      <td>6</td>\n      <td>[kommt, lange, idioten, kriegstreiber, westen,...</td>\n    </tr>\n    <tr>\n      <th>7</th>\n      <td>7</td>\n      <td>donnor, beweis deine behauptung, die ukraine w...</td>\n      <td>5</td>\n      <td>[deutschland, beweis, ukraine, wagenknecht, so...</td>\n    </tr>\n    <tr>\n      <th>10</th>\n      <td>10</td>\n      <td>der fraktionslose bundestagsabgeordnete robert...</td>\n      <td>12</td>\n      <td>[eigenen, geht, politische, traut, dabei, klar...</td>\n    </tr>\n    <tr>\n      <th>...</th>\n      <td>...</td>\n      <td>...</td>\n      <td>...</td>\n      <td>...</td>\n    </tr>\n    <tr>\n      <th>406222</th>\n      <td>406222</td>\n      <td>und außerdem kann sich jeder im krankenhaus be...</td>\n      <td>5</td>\n      <td>[kohle, lassen, völlig, sachen, außer]</td>\n    </tr>\n    <tr>\n      <th>406223</th>\n      <td>406223</td>\n      <td>du hast es nicht verstanden junge ..\\ndie ampe...</td>\n      <td>7</td>\n      <td>[deutschland, junge, hast, leben, arbeiten, eu...</td>\n    </tr>\n    <tr>\n      <th>406233</th>\n      <td>406233</td>\n      <td>deutschland hat fertig!\\nausbildung fehlanzeig...</td>\n      <td>5</td>\n      <td>[deutschland, gerne, unsere, bestimmt, rentner]</td>\n    </tr>\n    <tr>\n      <th>406236</th>\n      <td>406236</td>\n      <td>was die union wieder will, die leute sind doch...</td>\n      <td>10</td>\n      <td>[land, leute, sollen, sowieso, wäre, brauchen,...</td>\n    </tr>\n    <tr>\n      <th>406237</th>\n      <td>406237</td>\n      <td>kann jeder deutscher werden ,kein problem sola...</td>\n      <td>9</td>\n      <td>[gehen, deutsche, überwacht, irgendwelche, arb...</td>\n    </tr>\n  </tbody>\n</table>\n<p>133700 rows × 4 columns</p>\n</div>"
     },
     "metadata": {},
     "output_type": "display_data"
    }
   ],
   "source": [
    "display(comments_df.loc[comments_df['dict_term_occurrence'] > 4])"
   ],
   "metadata": {
    "collapsed": false,
    "pycharm": {
     "name": "#%%\n"
    }
   }
  },
  {
   "cell_type": "code",
   "execution_count": 44,
   "outputs": [
    {
     "name": "stdout",
     "output_type": "stream",
     "text": [
      "Sample 398335: ['politik', 'presse', 'stimmt', 'handlanger', 'meint']\n",
      "\n",
      "wenn auf einen in gewahrsam genommenen reichsbürger-rentner vier journalisten kommen, dann:\n",
      "a) stimmt die gewaltenteilung\n",
      "b) ist es eine farce\n",
      "c) ist die presse handlanger der politik geworden\n",
      "was meint ihr?\n",
      "------------------------------------------------------------------------------------------------------------------------------------------------------\n",
      "Sample 178360: ['wenig', 'wie', 'ebenso', 'gehören', 'schwäche', 'deutscher']\n",
      "\n",
      "metalhead kulturbanausen, die meinen, ihre schwäche durch kraft- und fäkalausdrücke kompensieren zu müssen, gehören ebenso wenig zu einer kulturnation, wie barbaren, die in der genuss verschleuderter deutscher staatsbürgerschaften kommen.\n",
      "------------------------------------------------------------------------------------------------------------------------------------------------------\n",
      "Sample 361514: ['vollkommen', 'bringen', 'konstruiert', 'staatlichen', 'selbstredend', 'illegalen', 'abschlachten', 'mädchen']\n",
      "\n",
      "die staatsfeindin antifa-faeser konstruiert etwas mit den vollkommen harmlosen reichsbürgern, um vom abschlachten der mädchen durch ihre illegalen abzulenken. die staatlichen maulhuren bringen diese farce selbstredend an erster stelle.\n",
      "------------------------------------------------------------------------------------------------------------------------------------------------------\n",
      "Sample 117851: ['gehört', 'partei', 'spielt', 'terror', 'afd']\n",
      "\n",
      "und schon wieder spielt die afd eine rolle, wenn es um terror geht.\n",
      "diese facho partei gehört verboten.\n",
      "------------------------------------------------------------------------------------------------------------------------------------------------------\n",
      "Sample 164673: ['dafür', 'denen', 'gehalten', 'krank', 'land', 'schwachsinn', 'frauen', 'gibt', 'idioten', 'ganzen', 'seite', 'die da', 'genug', 'armen']\n",
      "\n",
      "da war ja auch nichts! können die armen wirtschafts... pardon \"kriegs\"flüchtlinge ja nichts dafür das die sexy frauen keine armlänge abstand gehalten haben. das kann man denen doch nicht antun! die armen. na spass bei seite dieses land ist nur noch krank mit ihrem ganzen schwachsinn und es gibt genug idioten in dem land die das noch unterstützen.\n",
      "------------------------------------------------------------------------------------------------------------------------------------------------------\n",
      "Sample 165013: ['vielleicht', 'davon', 'gibt', 'viele', 'müssen']\n",
      "\n",
      "vielleicht gibt es zu viele davon und die berufsdemonstranten müssen sich aufteilen.\n",
      "------------------------------------------------------------------------------------------------------------------------------------------------------\n",
      "Sample 300075: ['eigenen', 'gehen', 'geht', 'wie', 'staat', 'versicherung', 'zahlen', 'dachte']\n",
      "\n",
      "kainer dachte ich mir doch. bei vorschlägen wie bei dem von ihnen geht es nämlich immer darum, daß andere sich einschränken bzw. mehr zahlen müssen. aber die eigenen gesundheitlich schädlichen angewohnheiten gehen dem staat und der versicherung nichts an.\n",
      "------------------------------------------------------------------------------------------------------------------------------------------------------\n",
      "Sample 70362: ['entschieden', 'hätte', 'jahren', 'seit', 'wäre', 'genau', 'afd']\n",
      "\n",
      "3:00 hätte das die afd vorgeschlagen oder entschieden wäre es rassistisch, aber so ist es ok. den genau das will die afd seit jahren :d\n",
      "------------------------------------------------------------------------------------------------------------------------------------------------------\n",
      "Sample 273243: ['dagegen', 'amerikanische', 'glaube', 'weltkrieg', 'zweiten', 'bayern']\n",
      "\n",
      "seemann ich glaube bayern war doch nach dem zweiten weltkrieg amerikanische besatzungszone. die kasernen sind also dort. in bawü waren es dagegen die franzosen\n",
      "------------------------------------------------------------------------------------------------------------------------------------------------------\n",
      "Sample 183284: ['bekommen', 'gehört', 'wirklich', 'zerstört', 'menschen', 'versucht', 'leben', 'mensch', 'virus', 'irgendwann']\n",
      "\n",
      "meiner meinug nach sollte man es, das corona virus abstufem!\n",
      "wir bekommen es nicht weg.\n",
      "es gehört dazu.\n",
      "das virus will den menschen nicht töten!\n",
      "es versucht mit dem menschen zuleben.\n",
      "das virus versucht mit dem menschen zu leben.\n",
      "da sich virus und mensch nicht wirklich unterscheiden.\n",
      "der virus versucht seinen wirt nicht umzubringen damit es leben kann!\n",
      "der mensch zerstört seinen planeten und kann irgendwann nicht mehr leben.\n",
      "------------------------------------------------------------------------------------------------------------------------------------------------------\n"
     ]
    }
   ],
   "source": [
    "for index, values in comments_df.loc[comments_df['dict_term_occurrence'] > 4].sample(10)[[\"Comments\", \"dict_identified_terms_list\"]].iterrows():\n",
    "    print(f\"Sample {index+1}: {values['dict_identified_terms_list']}\\n\")\n",
    "    print(values[\"Comments\"])\n",
    "    print(\"-\"*150)"
   ],
   "metadata": {
    "collapsed": false,
    "pycharm": {
     "name": "#%%\n"
    }
   }
  },
  {
   "cell_type": "code",
   "execution_count": 45,
   "outputs": [
    {
     "name": "stdout",
     "output_type": "stream",
     "text": [
      "Sample 242548: ['deutschland', 'dummheit', 'eigentlich', 'glück', 'komplett', 'reine', 'reiner', 'beim', 'wie', 'seid', 'aufgrund', 'soviel', 'studierte', 'sucht', 'sieg', 'konsequenzen', 'neben']\n",
      "\n",
      "wm - aus\n",
      "nun sucht ihr also einen schuldigen am wm- ausschied.... personelle konsequenzen aufgrund eines spiels bei dem neben komplett unbedeutsamen nebensachlichkeiten bloss das reine glück auf einen sieg erforderlich ist ? ist das euer ernst? sagt, wie trivial seid ihr eigentlich ??? wir haben soviel abiturienten beim dfb und bundesweit soviel studierte menschen, doch wie kann es sein, dass deutschland inzwischen an reiner dummheit nicht mehr zu überbieten ist ???\n",
      "------------------------------------------------------------------------------------------------------------------------------------------------------\n",
      "Sample 225632: ['denkt', 'ganze', 'jemand', 'kommt', 'zwei', 'quasi', 'wie', 'wann', 'lieben', 'guten', 'liebe', 'mittelstand', 'stammt', 'china']\n",
      "\n",
      "guten abend, ihr lieben menschen. corona quasi besiegt? da hab ich jetzt nur noch zwei fragen. stammt das virus, was uns ganze existenzen kostete, jetzt aus einem labor oder kommt es von dieser ollen fledermaus? und die wichtigere frage, wenn der shit aus einem labor stammt, wann muss china dann schadensersatz zahlen? oder hat jemand \"wie geil geschrien\", als jemand meinte er experimentiert wie ein genie? also liebe regierung, was denkt ihr für den überwiegenden mittelstand zu tun?\n",
      "------------------------------------------------------------------------------------------------------------------------------------------------------\n",
      "Sample 310633: ['deutschland', 'wissen', 'heute', 'russen', 'wie', 'faktisch', 'sache', 'usa', 'vereinigten staaten', 'europäische', 'kolonie', 'kolonien']\n",
      "\n",
      "*(8)* die *pläne der usa,* rußland in eine kolonie zu verwandeln, sind gescheitert. *dumasprecher wjatscheslaw:* \"wir russen wissen was sache ist, und wie die usa tickt, was deutschland noch nicht begriffen hat\".\n",
      "viele europäische staaten, *wie auch deutschland* sind heute faktisch kolonien der vereinigten staaten. *rd*\n",
      "------------------------------------------------------------------------------------------------------------------------------------------------------\n",
      "Sample 141554: ['dagegen', 'denen', 'eben', 'echt', 'eigentlich', 'ganz', 'lange', 'vergewaltigt', 'wegen', 'davon', 'erst', 'frauen', 'grund', 'hören', 'mann', 'paar', 'starke', 'warum', 'wie', 'beweise', 'beweisen', 'gesehen', 'schützen', 'irgendetwas', 'worden', 'kenne', 'passiert', 'wacht auf', 'später', 'patriot', 'sehe', 'vergewaltigungen']\n",
      "\n",
      "also, tausende gestandene männer, die später ganz kräftig den harten mann markieren, machen die biege und überlassen diese frauen ihrem schicksal?\n",
      "ich halte das eh nach wie vor für panikmache.\n",
      "im ernst, die paar fälle...\n",
      "wegen denen muss nun echt nichts unternommen werden..\n",
      "gibt es eigentlich videos davon?\n",
      "ach, und selbst wenn, ist eh alles meinungsmache.\n",
      "egal, egal, ist nie passiert und der starke patriot hat eh eine ausrede warum er nichts dagegen unternommen hat.\n",
      "und bis ich beweise gesehen habe ist es eh nur hören sagen.\n",
      "mal ganz davon abgesehen dass risikogruppen sich eben selbst schützen müssen. ich sehe nicht ein warum andere da mit reingezogen werden sollten.\n",
      "echt mal, die paar vergewaltigungen (die mir erst noch einer beweisen muss) sind noch lange kein grund sich wegen irgendetwas aufzuregen.\n",
      "also ich kenne niemanden der vergewaltigt worden ist.\n",
      "alles panikmache.\n",
      "wacht auf.\n",
      "------------------------------------------------------------------------------------------------------------------------------------------------------\n",
      "Sample 212118: ['braucht', 'kommen', 'terroristische', 'regierung', 'unterstützung', 'um die', 'welt', 'sturz', 'nation', 'republik', 'islamische']\n",
      "\n",
      "die nation iran braucht die umfassende unterstützung der welt, um die terroristische islamische republik zu zerstören, die die welt satt hat. der sturz der regierung khamenei wird allen zugute kommen\n",
      "------------------------------------------------------------------------------------------------------------------------------------------------------\n",
      "Sample 178328: ['angegriffen', 'deutschland', 'kämpft', 'wirklich', 'wurde', 'polen', 'versucht', 'um die', 'besser', 'russland', 'daran', 'gesprengt', 'ukraine']\n",
      "\n",
      "wolf kämpft nein, ich glaube, dass nordstream von polen gesprengt wurde - weil russland die ukraine angegriffen und versucht hat, deutschland zu erpressen. deinen geschichtsunterricht würde ich dir so dermaßen um die ohren hauen, dass du wirklich besser daran tust, deine klappe zu halten.\n",
      "------------------------------------------------------------------------------------------------------------------------------------------------------\n",
      "Sample 406083: ['tragen', 'dabei', 'deutlich', 'migranten', 'welche', 'wie', 'fürs', 'fachkräfte', 'westlichen', 'finanzministerium', 'fast', 'linksgrün', 'soviel', 'staaten', 'einwanderer', 'ländern']\n",
      "\n",
      "fachkräfte fürs linksgrün wählen? welche einwanderergruppen tragen denn wieviel zum staatshaushalt bei?\n",
      "das dänische finanzministerium hat das 2018 einmal aufgeschlüsselt und dabei festgestellt, dass einwanderer aus westlichen ländern fast soviel leisten, wie dänen, aber migranten aus nichtwestlichen staaten (und insbesondere aus muslimischen) im vergleich deutlich abfallen.\n",
      "warum werden solche kriterien bei den plänen der ampel nicht berücksichtigt?\n",
      "------------------------------------------------------------------------------------------------------------------------------------------------------\n",
      "Sample 148366: ['ganze', 'lange', 'lüge', 'sollen', 'brexit', 'plappern', 'unserer', 'warum', 'welche', 'falsch', 'gebracht', 'halten', 'leider', 'lieber', 'alten', 'aufgrund', 'briten', 'eu', 'probleme']\n",
      "\n",
      "das sind die selben argumente, welche die brexiteers immer gebracht haben. leider hat sich das ganze inzwischen als lüge herausgestellt. der brexit hat die briten schon mehr gekostet, als sie jemals eingezahlt haben. die meisten halten es aufgrund der probleme inzwischen für einen fehler, aus der eu ausgetreten zu sein.\n",
      "aber warum sollen wir aus den fehlern unserer nachbarn lernen, wir plappern lieber die alten stammtischparolen nach, die sich schon lange als falsch herausgestellt haben.\n",
      "------------------------------------------------------------------------------------------------------------------------------------------------------\n",
      "Sample 171541: ['deutschland', 'ganze', 'hätte', 'krieg', 'längst', 'lebensmittel', 'völlig', 'wäre', 'flüchtlinge', 'hätten', 'liefern', 'nato', 'niemals', 'putin', 'schuld', 'somit', 'ukraine', 'waffen', 'später', 'verantwortung', 'geschichte', 'helfen']\n",
      "\n",
      "niemals hätte deutschland waffen in die ukraine liefern dürfen. später wird die geschichte wieder nur deutschland zur verantwortung ziehen. der ganze krieg wäre ohne die waffenlieferungen schon längst zu ende. man kann flüchtlinge aufnehmen und decken, lebensmittel liefern. und man kann das gespräch mit putin suchen. lösungen finden, kompromisse beschließen. aber waffen und panzerlieferungen sind völlig indiskutabel. vor allem deutschland hätte sich niemals einmischen dürfen. schweden, schweiz, norwegen, niederlande, die hätten helfen können, aber niemals deutschland. schuld an dem krieg ist die nato und somit die usa.\n",
      "------------------------------------------------------------------------------------------------------------------------------------------------------\n",
      "Sample 135347: ['deutschen', 'möglich', 'viele', 'wer', 'wie', 'ende', 'andernfalls', 'steckt', 'anschlägen', 'präsident', 'hauptsache', 'gegenseitig', 'helfen', 'sprechen']\n",
      "\n",
      "us präsident truman gegen ende des 2. weltkrieges, sinngemäß: wenn wir sehen, die deutschen gewinnen, dann helfen wir den russen. andernfalls helfen wir den deutschen. hauptsache dass sich so viele wie möglich gegenseitig erschießen. so sprechen nur freunde. apropos feinde, wer steckt jetzt hinter den anschlägen auf nord-stream2?\n",
      "------------------------------------------------------------------------------------------------------------------------------------------------------\n"
     ]
    }
   ],
   "source": [
    "for index, values in comments_df.loc[comments_df['dict_term_occurrence'] > 10].sample(10)[[\"Comments\", \"dict_identified_terms_list\"]].iterrows():\n",
    "    print(f\"Sample {index+1}: {values['dict_identified_terms_list']}\\n\")\n",
    "    print(values[\"Comments\"])\n",
    "    print(\"-\"*150)"
   ],
   "metadata": {
    "collapsed": false,
    "pycharm": {
     "name": "#%%\n"
    }
   }
  }
 ],
 "metadata": {
  "kernelspec": {
   "display_name": "Python 3",
   "language": "python",
   "name": "python3"
  },
  "language_info": {
   "codemirror_mode": {
    "name": "ipython",
    "version": 2
   },
   "file_extension": ".py",
   "mimetype": "text/x-python",
   "name": "python",
   "nbconvert_exporter": "python",
   "pygments_lexer": "ipython2",
   "version": "2.7.6"
  }
 },
 "nbformat": 4,
 "nbformat_minor": 0
}