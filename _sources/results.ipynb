{
 "cells": [
  {
   "cell_type": "markdown",
   "metadata": {
    "pycharm": {
     "name": "#%% md\n"
    }
   },
   "source": [
    "# Results\n",
    "\n",
    "In this chapter the research questions from the beginng are answered on the basis of the insights gained in the previous chapters.\n",
    "\n",
    "## Which topics are dominant in the comments section below the videos?\n",
    "\n",
    "To answer this question, the LDA topic model can be used. As illustrated in the corresponding chapter, the best results were achieved by the model that learned 10 topics. Below we can see again the wordcloud for the model with 10 topics, which was used to identify the individual topics. The results were mixed. In part, clear topics could be identified, but in part the topics found make little sense from a human point of view. Concrete topics that could be found were domestic politics, ukraine war, \"AFD\", covid and the lateral thinking movement. From the analysis with pyLDAvis, we were also able to gain the insight that the topic of domestic politics dominates a particularly large proportion of the comments.\n",
    "\n",
    "The topics found are all related to the lateral thinking movement and thus support the thesis that the commments section is dominated by the lateral thinking movement. The dominance of the topic of domestic politics also fits in with this, as this is a topic often taken up by the lateral thinking movement. At the same time, however, it must also be taken into account that these topics have a lot of social relevance in the period under consideration. Thus, there could also be many comments on the topics, even though they were not written by lateral thinkers. Also not all topics of the model can be identified and assigned to the movement. At the same time, it is also interesting to see that a socially very relevant topic such as climate change does not appear in the topics."
   ]
  },
  {
   "cell_type": "markdown",
   "metadata": {
    "pycharm": {
     "name": "#%% md\n"
    }
   },
   "source": [
    "## How many comments can be attributed to the lateral thinking movement?\n",
    "\n",
    "To answer this question, the dictionary analysis is used. The analysis with the RPC-Lex dictionary showed that 345,620 comments contain terms from the dictionary, which corresponds to 85% of all comments. The examination of examples shows, however, that not all comments that had a hit can also be attributed to the lateral thinking movement. Even by increasing the number of dictionary terms found in the comment, the accuracy could not be substantially improved. This suggests that the dictionary could be too general to identify lateral thinkers comments. This assumption is supported by the fact that the paper also states that the use of the dictionary to classify such comments needs to be critically reviewed, as the main purpose of the dictionary is to distinguish between different types of comments from lateral thinkers {cite:p}`rpc_lex_dictionary`.\n",
    "\n",
    "If this circumstance is taken into account and one considers the proportion of correct hits in the analysis of the samples, one could assume that half of all hits are correct. Based on this assumption, 172,810 comments can still be attributed to the lateral thinking movement, which corresponds to 43% of all comments. This is still a large proportion, especially considering the proportion this movement has in society.\n",
    "\n",
    "## How dominant are right-wing comments?\n",
    "\n",
    "This question can be answered with the help of the RPC-Lex dictionary categories. The dictionary contains two categories that can be considered right-wing oriented: Anti-immigration/Islamophobia and Nationalism. To answer the questions the results from the dictionary are loaded. During the analysis, it was always saved which terms were found. This is now used to see how many of these terms can be assigned to the two categories Anti-immigration/Islamophobia and Nationalism.\n",
    "\n",
    "To do this, first the results and the dictionary are loaded. Then a set is created, which contains only the terms of these two categories. This set contains 2,377 terms and is therefore much smaller than the complete dictionary. Afterwards we iterate over all comments to see how many of the previously found dictionary terms can be found in this reduced set of right-wing terms. The result is that 296960 comments contain right-wing terms.\n"
   ]
  },
  {
   "cell_type": "code",
   "execution_count": 1,
   "metadata": {
    "pycharm": {
     "name": "#%%\n"
    },
    "tags": [
     "hide-output"
    ]
   },
   "outputs": [
    {
     "name": "stdout",
     "output_type": "stream",
     "text": [
      "2377\n"
     ]
    },
    {
     "data": {
      "text/plain": "                                                 Comments  \\\n0       wollt ihr jetzt jeden tag einen großen bericht...   \n1       wenn scholz alles besser weiss, wieso braucht ...   \n2       die grünen hatten früher das peace zeichen als...   \n3       der westen ist ein kriegstreiber bis es zu ein...   \n4                           frieden schaffen ohne waffen.   \n...                                                   ...   \n401274  88 kommentare --- schnell die flucht ergreifen...   \n401276  was die union wieder will, die leute sind doch...   \n401277  kann jeder deutscher werden ,kein problem sola...   \n401278  dann nimm die leute bei dir auf und verpflege ...   \n401280  wann kommt der blackout? kinder könnt ihr ja e...   \n\n        dict_term_occurrence  \\\n0                          7   \n1                          3   \n2                          9   \n3                          6   \n4                          2   \n...                      ...   \n401274                     4   \n401276                    10   \n401277                     9   \n401278                     1   \n401280                     4   \n\n                               dict_identified_terms_list  \\\n0       [ganz, großen, bericht, schön, panzer, sinnlos...   \n1                                [braucht, wieso, besser]   \n2       [grünen, heute, militär, panzer, wächst, frühe...   \n3       [kommt, lange, idioten, kriegstreiber, westen,...   \n4                                     [schaffen, frieden]   \n...                                                   ...   \n401274                  [schnell, 88, kommentare, flucht]   \n401276  [land, leute, sollen, sowieso, wäre, brauchen,...   \n401277  [gehen, deutsche, überwacht, irgendwelche, arb...   \n401278                                            [leute]   \n401280                       [kinder, kommt, wann, könnt]   \n\n        right_wing_term_occurence  \n0                               4  \n1                               3  \n2                               3  \n3                               4  \n4                               2  \n...                           ...  \n401274                          4  \n401276                          7  \n401277                          5  \n401278                          1  \n401280                          4  \n\n[296960 rows x 4 columns]",
      "text/html": "<div>\n<style scoped>\n    .dataframe tbody tr th:only-of-type {\n        vertical-align: middle;\n    }\n\n    .dataframe tbody tr th {\n        vertical-align: top;\n    }\n\n    .dataframe thead th {\n        text-align: right;\n    }\n</style>\n<table border=\"1\" class=\"dataframe\">\n  <thead>\n    <tr style=\"text-align: right;\">\n      <th></th>\n      <th>Comments</th>\n      <th>dict_term_occurrence</th>\n      <th>dict_identified_terms_list</th>\n      <th>right_wing_term_occurence</th>\n    </tr>\n  </thead>\n  <tbody>\n    <tr>\n      <th>0</th>\n      <td>wollt ihr jetzt jeden tag einen großen bericht...</td>\n      <td>7</td>\n      <td>[ganz, großen, bericht, schön, panzer, sinnlos...</td>\n      <td>4</td>\n    </tr>\n    <tr>\n      <th>1</th>\n      <td>wenn scholz alles besser weiss, wieso braucht ...</td>\n      <td>3</td>\n      <td>[braucht, wieso, besser]</td>\n      <td>3</td>\n    </tr>\n    <tr>\n      <th>2</th>\n      <td>die grünen hatten früher das peace zeichen als...</td>\n      <td>9</td>\n      <td>[grünen, heute, militär, panzer, wächst, frühe...</td>\n      <td>3</td>\n    </tr>\n    <tr>\n      <th>3</th>\n      <td>der westen ist ein kriegstreiber bis es zu ein...</td>\n      <td>6</td>\n      <td>[kommt, lange, idioten, kriegstreiber, westen,...</td>\n      <td>4</td>\n    </tr>\n    <tr>\n      <th>4</th>\n      <td>frieden schaffen ohne waffen.</td>\n      <td>2</td>\n      <td>[schaffen, frieden]</td>\n      <td>2</td>\n    </tr>\n    <tr>\n      <th>...</th>\n      <td>...</td>\n      <td>...</td>\n      <td>...</td>\n      <td>...</td>\n    </tr>\n    <tr>\n      <th>401274</th>\n      <td>88 kommentare --- schnell die flucht ergreifen...</td>\n      <td>4</td>\n      <td>[schnell, 88, kommentare, flucht]</td>\n      <td>4</td>\n    </tr>\n    <tr>\n      <th>401276</th>\n      <td>was die union wieder will, die leute sind doch...</td>\n      <td>10</td>\n      <td>[land, leute, sollen, sowieso, wäre, brauchen,...</td>\n      <td>7</td>\n    </tr>\n    <tr>\n      <th>401277</th>\n      <td>kann jeder deutscher werden ,kein problem sola...</td>\n      <td>9</td>\n      <td>[gehen, deutsche, überwacht, irgendwelche, arb...</td>\n      <td>5</td>\n    </tr>\n    <tr>\n      <th>401278</th>\n      <td>dann nimm die leute bei dir auf und verpflege ...</td>\n      <td>1</td>\n      <td>[leute]</td>\n      <td>1</td>\n    </tr>\n    <tr>\n      <th>401280</th>\n      <td>wann kommt der blackout? kinder könnt ihr ja e...</td>\n      <td>4</td>\n      <td>[kinder, kommt, wann, könnt]</td>\n      <td>4</td>\n    </tr>\n  </tbody>\n</table>\n<p>296960 rows × 4 columns</p>\n</div>"
     },
     "metadata": {},
     "output_type": "display_data"
    }
   ],
   "source": [
    "from IPython.core.display_functions import display\n",
    "import pandas as pd\n",
    "from ast import  literal_eval\n",
    "comments_df = pd.read_csv(\"data/dictionary_analysis.csv\")\n",
    "comments_df = comments_df.drop(columns=comments_df.columns[0], axis=1)\n",
    "rpx_dict = pd.read_csv(\"dictionary_analysis/rpc_lex.csv\", delimiter=\";\")\n",
    "rpx_dict_nat = rpx_dict[rpx_dict.category_code == \"NAT\"]\n",
    "rpx_dict_isla = rpx_dict[rpx_dict.category_code == \"ISLA\"]\n",
    "\n",
    "right_wing_terms = set(rpx_dict_nat.term.to_list()).union(rpx_dict_isla.term.to_list())\n",
    "print(len(right_wing_terms))\n",
    "\n",
    "dict_right_wing_term_occurrence_list = []\n",
    "comments_df.dict_identified_terms_list = comments_df.dict_identified_terms_list.apply(lambda x: literal_eval(x))\n",
    "for term_list in comments_df.dict_identified_terms_list.to_list():\n",
    "    term_occurrence = 0\n",
    "    for index, term in enumerate(term_list):\n",
    "        if term in right_wing_terms:\n",
    "            term_occurrence += 1\n",
    "    dict_right_wing_term_occurrence_list.append(term_occurrence)\n",
    "    term_occurrence = 0\n",
    "\n",
    "comments_df[\"right_wing_term_occurence\"] = dict_right_wing_term_occurrence_list\n",
    "display(comments_df.loc[comments_df['right_wing_term_occurence'] > 0])"
   ]
  },
  {
   "cell_type": "markdown",
   "metadata": {
    "pycharm": {
     "name": "#%% md\n"
    }
   },
   "source": [
    "This result is rather surprising, since only one fifth of the dictionary words were used while the number of hits decreased by only about 15%. If we again take into account that there are a large number of false positives, the overall large proportion of hits nevertheless leads to the conclusion that right-wing oriented comments have a relatively strong dominance."
   ]
  },
  {
   "cell_type": "markdown",
   "metadata": {
    "pycharm": {
     "name": "#%% md\n"
    }
   },
   "source": [
    "\n",
    "## What is the general sentiment in the comments section?\n",
    "\n",
    "The sentiment analysis has shown that the comments section under videos of the \"tagesschau\" channel is strongly negative. Only very few comments were positive and most comments were neutral or negative, with the negative comments making up the largest proportion. In view of the terms and comments observed in the previous analyses, this result was to be expected."
   ]
  },
  {
   "cell_type": "code",
   "execution_count": 31,
   "metadata": {
    "pycharm": {
     "name": "#%%\n"
    },
    "tags": [
     "hide-input"
    ]
   },
   "outputs": [
    {
     "data": {
      "text/plain": [
       "(0.0, 0.65)"
      ]
     },
     "execution_count": 31,
     "metadata": {},
     "output_type": "execute_result"
    },
    {
     "data": {
      "image/png": "[encoded data removed]",
      "text/plain": [
       "<Figure size 640x480 with 1 Axes>"
      ]
     },
     "metadata": {},
     "output_type": "display_data"
    }
   ],
   "source": [
    "import pandas as pd\n",
    "comments_df = pd.read_csv(\"data/sentiments.csv\")\n",
    "ax = comments_df[\"sentiment\"].value_counts(normalize=True).sort_values().plot(kind=\"barh\", title=\"Sentiment model\")\n",
    "ax.bar_label(ax.containers[0], fmt=\"%.2f\")\n",
    "ax.set_xlim(0,0.65)"
   ]
  },
  {
   "cell_type": "markdown",
   "metadata": {
    "pycharm": {
     "name": "#%% md\n"
    }
   },
   "source": [
    "## Do the comments of lateral thinkers make up the majority of all comments?\n",
    "\n",
    "This question is difficult to answer with the help of the topic model, since domestic topics make up a large part of it and this topic cannot be assigned directly to lateral thinking movement. The dictionary analysis, on the other hand, allows the conclusion that lateral thinkers write many comments and dominate the comments section, at least partially. The negative sentiment revealed by the sentiment analysis supports this assumption. Furthermore, the analysis of political orientation can be used to answer this question. Most of the comments can be assigned to the conservative or extreme direction, as it has already been mentioned in the chapter before. The distribution among the parties is very different from the current polls[^forsa], which is why this result also supports the assumption that comments by lateral thinkers make up a large proportion.\n",
    "\n",
    "[^forsa]: see https://dawum.de/Bundestag/Forsa/2023-01-24/\n"
   ]
  },
  {
   "cell_type": "code",
   "execution_count": 33,
   "metadata": {
    "pycharm": {
     "name": "#%%\n"
    },
    "tags": [
     "hide-input"
    ]
   },
   "outputs": [
    {
     "data": {
      "text/plain": [
       "(0.0, 0.5)"
      ]
     },
     "execution_count": 33,
     "metadata": {},
     "output_type": "execute_result"
    },
    {
     "data": {
      "image/png": "[encoded data removed]",
      "text/plain": [
       "<Figure size 640x480 with 1 Axes>"
      ]
     },
     "metadata": {},
     "output_type": "display_data"
    }
   ],
   "source": [
    "import pandas as pd\n",
    "comments_df = pd.read_csv(\"data/political_parties.csv\")\n",
    "ax = comments_df[\"political_party\"].value_counts(normalize=True).sort_values().plot(kind=\"barh\", title=\"Political parties\")\n",
    "ax.bar_label(ax.containers[0], fmt=\"%.2f\")\n",
    "ax.set_xlim(0,0.5)"
   ]
  },
  {
   "cell_type": "markdown",
   "source": [
    "## Result validity\n",
    "\n",
    "The results presented here are only valid for the dataset used. With 500 videos, a large number of videos were included and analysed, but it cannot be guaranteed that the results can be applied with certainty to the entire channel or all 8 p.m. videos of the \"tagesschau\" channel. Furthermore, all the methods used had their limitations, which were explained in the previous sections. These limitations also influence the validity of the results.\n",
    "\n",
    "To check the validity of the dictionary analysis, the average number of hits in the dictionary is considered. The average number of hits is 5.3 if only comments with at least one dictionary term are taken into account. This does not seem to be a bad value, but it must also be taken into account that the dictionary contains many words. With regard to the average comment length, which was considered at the beginning, this value rather confirms that the results can be used taking into account that false positives are included."
   ],
   "metadata": {
    "collapsed": false,
    "pycharm": {
     "name": "#%% md\n"
    }
   }
  },
  {
   "cell_type": "code",
   "execution_count": 9,
   "outputs": [
    {
     "data": {
      "text/plain": "5.372461084427984"
     },
     "execution_count": 9,
     "metadata": {},
     "output_type": "execute_result"
    }
   ],
   "source": [
    "comments_df = pd.read_csv(\"data/dictionary_analysis.csv\")\n",
    "comments_df.loc[comments_df['dict_term_occurrence'] > 0].dict_term_occurrence.mean()"
   ],
   "metadata": {
    "collapsed": false,
    "pycharm": {
     "name": "#%%\n"
    }
   }
  },
  {
   "cell_type": "markdown",
   "source": [
    "The results of the sentiment analysis look good. With an average certainty of 93%, the accuracy of the classification is quite good."
   ],
   "metadata": {
    "collapsed": false,
    "pycharm": {
     "name": "#%% md\n"
    }
   }
  },
  {
   "cell_type": "code",
   "execution_count": 4,
   "outputs": [
    {
     "data": {
      "text/plain": "0.9335578913210657"
     },
     "execution_count": 4,
     "metadata": {},
     "output_type": "execute_result"
    }
   ],
   "source": [
    "comments_df = pd.read_csv(\"data/sentiments.csv\")\n",
    "comments_df.sentiment_score.mean()"
   ],
   "metadata": {
    "collapsed": false,
    "pycharm": {
     "name": "#%%\n"
    }
   }
  },
  {
   "cell_type": "markdown",
   "source": [
    "When analysing the political parties, the accuracy is slightly worse with an average certainty of 88%. Considering that the model is primarily intended to classify political statements and not social media comments, this result is still good. Nevertheless, this score says that there are probably a few misclassifications as well."
   ],
   "metadata": {
    "collapsed": false,
    "pycharm": {
     "name": "#%% md\n"
    }
   }
  },
  {
   "cell_type": "code",
   "execution_count": 8,
   "outputs": [
    {
     "data": {
      "text/plain": "0.8885844396229461"
     },
     "execution_count": 8,
     "metadata": {},
     "output_type": "execute_result"
    }
   ],
   "source": [
    "comments_df = pd.read_csv(\"data/political_parties.csv\")\n",
    "comments_df.political_party_score.mean()"
   ],
   "metadata": {
    "collapsed": false,
    "pycharm": {
     "name": "#%%\n"
    }
   }
  }
 ],
 "metadata": {
  "celltoolbar": "Edit Metadata",
  "kernelspec": {
   "display_name": "Python 3 (ipykernel)",
   "language": "python",
   "name": "python3"
  },
  "language_info": {
   "codemirror_mode": {
    "name": "ipython",
    "version": 3
   },
   "file_extension": ".py",
   "mimetype": "text/x-python",
   "name": "python",
   "nbconvert_exporter": "python",
   "pygments_lexer": "ipython3",
   "version": "3.9.15"
  }
 },
 "nbformat": 4,
 "nbformat_minor": 1
}