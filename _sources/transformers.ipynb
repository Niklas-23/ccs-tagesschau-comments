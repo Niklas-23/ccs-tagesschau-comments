{
 "cells": [
  {
   "cell_type": "markdown",
   "source": [
    "# Transformers"
   ],
   "metadata": {
    "collapsed": false,
    "pycharm": {
     "name": "#%% md\n"
    }
   }
  },
  {
   "cell_type": "code",
   "execution_count": null,
   "outputs": [],
   "source": [
    "import pandas as pd\n",
    "from tqdm import tqdm\n",
    "from transformers import AutoConfig, AutoTokenizer, AutoModelForSequenceClassification\n",
    "import torch\n",
    "import numpy as np\n",
    "from cleantext import clean"
   ],
   "metadata": {
    "collapsed": false,
    "pycharm": {
     "name": "#%%\n",
     "is_executing": true
    }
   }
  },
  {
   "cell_type": "code",
   "execution_count": 18,
   "outputs": [
    {
     "data": {
      "text/plain": "        Unnamed: 0                                           Comments\n0                0  wollt ihr jetzt jeden tag einen großen bericht...\n1                1  wenn scholz alles besser weiss, wieso braucht ...\n2                2  die grünen hatten früher das peace zeichen als...\n3                3  der westen ist ein kriegstreiber bis es zu ein...\n4                4                      frieden schaffen ohne waffen.\n...            ...                                                ...\n406237      406237  kann jeder deutscher werden ,kein problem sola...\n406238      406238  dann nimm die leute bei dir auf und verpflege ...\n406239      406239  als staatenloser hatt mans aber auch nicht lei...\n406240      406240  wann kommt der blackout? kinder könnt ihr ja e...\n406241      406241  den blackout auf den du wartest, wird es nur g...\n\n[401282 rows x 2 columns]",
      "text/html": "<div>\n<style scoped>\n    .dataframe tbody tr th:only-of-type {\n        vertical-align: middle;\n    }\n\n    .dataframe tbody tr th {\n        vertical-align: top;\n    }\n\n    .dataframe thead th {\n        text-align: right;\n    }\n</style>\n<table border=\"1\" class=\"dataframe\">\n  <thead>\n    <tr style=\"text-align: right;\">\n      <th></th>\n      <th>Unnamed: 0</th>\n      <th>Comments</th>\n    </tr>\n  </thead>\n  <tbody>\n    <tr>\n      <th>0</th>\n      <td>0</td>\n      <td>wollt ihr jetzt jeden tag einen großen bericht...</td>\n    </tr>\n    <tr>\n      <th>1</th>\n      <td>1</td>\n      <td>wenn scholz alles besser weiss, wieso braucht ...</td>\n    </tr>\n    <tr>\n      <th>2</th>\n      <td>2</td>\n      <td>die grünen hatten früher das peace zeichen als...</td>\n    </tr>\n    <tr>\n      <th>3</th>\n      <td>3</td>\n      <td>der westen ist ein kriegstreiber bis es zu ein...</td>\n    </tr>\n    <tr>\n      <th>4</th>\n      <td>4</td>\n      <td>frieden schaffen ohne waffen.</td>\n    </tr>\n    <tr>\n      <th>...</th>\n      <td>...</td>\n      <td>...</td>\n    </tr>\n    <tr>\n      <th>406237</th>\n      <td>406237</td>\n      <td>kann jeder deutscher werden ,kein problem sola...</td>\n    </tr>\n    <tr>\n      <th>406238</th>\n      <td>406238</td>\n      <td>dann nimm die leute bei dir auf und verpflege ...</td>\n    </tr>\n    <tr>\n      <th>406239</th>\n      <td>406239</td>\n      <td>als staatenloser hatt mans aber auch nicht lei...</td>\n    </tr>\n    <tr>\n      <th>406240</th>\n      <td>406240</td>\n      <td>wann kommt der blackout? kinder könnt ihr ja e...</td>\n    </tr>\n    <tr>\n      <th>406241</th>\n      <td>406241</td>\n      <td>den blackout auf den du wartest, wird es nur g...</td>\n    </tr>\n  </tbody>\n</table>\n<p>401282 rows × 2 columns</p>\n</div>"
     },
     "execution_count": 18,
     "metadata": {},
     "output_type": "execute_result"
    }
   ],
   "source": [
    "comments_df = pd.read_csv(\"data/youtube_comments_500.csv\")\n",
    "comments_df[\"Comments\"] = comments_df[\"Comments\"].astype(str)\n",
    "\n",
    "def clean_text(text:str):\n",
    "    text = clean(text, no_emoji=True, lang=\"de\")\n",
    "    new_text = []\n",
    "    for token in text.split(\" \"):\n",
    "        if not token.startswith('@') and not token.startswith('http'):\n",
    "            new_text.append(token)\n",
    "    return \" \".join(new_text)\n",
    "\n",
    "comments_df[\"Comments\"] = comments_df[\"Comments\"].apply(lambda text: clean_text(text))\n",
    "comments_df =comments_df[comments_df.Comments != \"\"]\n",
    "comments_df"
   ],
   "metadata": {
    "collapsed": false,
    "pycharm": {
     "name": "#%%\n"
    }
   }
  },
  {
   "cell_type": "code",
   "execution_count": null,
   "outputs": [],
   "source": [
    "model_name = \"oliverguhr/german-sentiment-bert\"\n",
    "sentiment_tokenizer = AutoTokenizer.from_pretrained(model_name)\n",
    "sentiment_model_config = AutoConfig.from_pretrained(model_name)\n",
    "sentiment_model = AutoModelForSequenceClassification.from_pretrained(model_name)\n",
    "\n",
    "label_list = []\n",
    "score_list = []\n",
    "\n",
    "for text in tqdm(comments_df.Comments.to_list()):\n",
    "    tokenized_input = sentiment_tokenizer(text, padding=True, truncation=True, return_tensors='pt', max_length=512)\n",
    "    output = sentiment_model(**tokenized_input)\n",
    "    predictions = torch.nn.functional.softmax(output.logits, dim=-1)\n",
    "    predictions = predictions.detach().numpy()[0]\n",
    "    label_list.append(sentiment_model_config.id2label[np.argsort(predictions)[::-1][0]])\n",
    "    score_list.append(max(predictions))\n",
    "\n",
    "comments_df[\"sentiment\"] = label_list\n",
    "comments_df[\"sentiment_score\"] = score_list\n",
    "comments_df.to_csv(\"data/sentiments.csv\")"
   ],
   "metadata": {
    "collapsed": false,
    "pycharm": {
     "name": "#%%\n",
     "is_executing": true
    }
   }
  },
  {
   "cell_type": "code",
   "execution_count": 20,
   "outputs": [
    {
     "data": {
      "text/plain": "   Unnamed: 0.1  Unnamed: 0  \\\n0             0           0   \n1             1           1   \n2             2           2   \n3             3           3   \n4             4           4   \n5             5           5   \n6             6           6   \n7             7           7   \n8             8           8   \n9             9           9   \n\n                                            Comments sentiment  \\\n0  wollt ihr jetzt jeden tag einen großen bericht...  negative   \n1  Wenn Scholz alles besser weiss, wieso braucht ...  negative   \n2  Die Grünen hatten Früher das Peace Zeichen als...   neutral   \n3  Der Westen ist ein Kriegstreiber bis es zu ein...   neutral   \n4                      Frieden schaffen ohne Waffen.   neutral   \n5  Donnor, dann sag Putin, er soll aus der Ukrain...   neutral   \n6  Kanal Sahra Wagenknecht: Erst Panzer, dann Kam...   neutral   \n7  Donnor, beweis deine Behauptung, die Ukraine w...   neutral   \n8  Deutschland wird mit der Lieferung nichts gute...   neutral   \n9  Warum? Frieden schaffen mit Waffen. Denk mal a...  negative   \n\n   sentiment_score  \n0         0.997865  \n1         0.922022  \n2         0.682787  \n3         0.994764  \n4         0.957964  \n5         0.998527  \n6         0.524188  \n7         0.779697  \n8         0.997424  \n9         0.891107  ",
      "text/html": "<div>\n<style scoped>\n    .dataframe tbody tr th:only-of-type {\n        vertical-align: middle;\n    }\n\n    .dataframe tbody tr th {\n        vertical-align: top;\n    }\n\n    .dataframe thead th {\n        text-align: right;\n    }\n</style>\n<table border=\"1\" class=\"dataframe\">\n  <thead>\n    <tr style=\"text-align: right;\">\n      <th></th>\n      <th>Unnamed: 0.1</th>\n      <th>Unnamed: 0</th>\n      <th>Comments</th>\n      <th>sentiment</th>\n      <th>sentiment_score</th>\n    </tr>\n  </thead>\n  <tbody>\n    <tr>\n      <th>0</th>\n      <td>0</td>\n      <td>0</td>\n      <td>wollt ihr jetzt jeden tag einen großen bericht...</td>\n      <td>negative</td>\n      <td>0.997865</td>\n    </tr>\n    <tr>\n      <th>1</th>\n      <td>1</td>\n      <td>1</td>\n      <td>Wenn Scholz alles besser weiss, wieso braucht ...</td>\n      <td>negative</td>\n      <td>0.922022</td>\n    </tr>\n    <tr>\n      <th>2</th>\n      <td>2</td>\n      <td>2</td>\n      <td>Die Grünen hatten Früher das Peace Zeichen als...</td>\n      <td>neutral</td>\n      <td>0.682787</td>\n    </tr>\n    <tr>\n      <th>3</th>\n      <td>3</td>\n      <td>3</td>\n      <td>Der Westen ist ein Kriegstreiber bis es zu ein...</td>\n      <td>neutral</td>\n      <td>0.994764</td>\n    </tr>\n    <tr>\n      <th>4</th>\n      <td>4</td>\n      <td>4</td>\n      <td>Frieden schaffen ohne Waffen.</td>\n      <td>neutral</td>\n      <td>0.957964</td>\n    </tr>\n    <tr>\n      <th>5</th>\n      <td>5</td>\n      <td>5</td>\n      <td>Donnor, dann sag Putin, er soll aus der Ukrain...</td>\n      <td>neutral</td>\n      <td>0.998527</td>\n    </tr>\n    <tr>\n      <th>6</th>\n      <td>6</td>\n      <td>6</td>\n      <td>Kanal Sahra Wagenknecht: Erst Panzer, dann Kam...</td>\n      <td>neutral</td>\n      <td>0.524188</td>\n    </tr>\n    <tr>\n      <th>7</th>\n      <td>7</td>\n      <td>7</td>\n      <td>Donnor, beweis deine Behauptung, die Ukraine w...</td>\n      <td>neutral</td>\n      <td>0.779697</td>\n    </tr>\n    <tr>\n      <th>8</th>\n      <td>8</td>\n      <td>8</td>\n      <td>Deutschland wird mit der Lieferung nichts gute...</td>\n      <td>neutral</td>\n      <td>0.997424</td>\n    </tr>\n    <tr>\n      <th>9</th>\n      <td>9</td>\n      <td>9</td>\n      <td>Warum? Frieden schaffen mit Waffen. Denk mal a...</td>\n      <td>negative</td>\n      <td>0.891107</td>\n    </tr>\n  </tbody>\n</table>\n</div>"
     },
     "execution_count": 20,
     "metadata": {},
     "output_type": "execute_result"
    }
   ],
   "source": [
    "comments = pd.read_csv(\"data/sentiments.csv\")\n",
    "comments.head(10)"
   ],
   "metadata": {
    "collapsed": false,
    "pycharm": {
     "name": "#%%\n"
    }
   }
  },
  {
   "cell_type": "code",
   "execution_count": 16,
   "outputs": [
    {
     "data": {
      "text/plain": "(0.0, 0.65)"
     },
     "execution_count": 16,
     "metadata": {},
     "output_type": "execute_result"
    },
    {
     "data": {
      "text/plain": "<Figure size 640x480 with 1 Axes>",
      "image/png": "[encoded data removed]"
     },
     "metadata": {},
     "output_type": "display_data"
    }
   ],
   "source": [
    "ax = comments[\"sentiment\"].value_counts(normalize=True).plot(kind=\"barh\", title=\"Sentiment model\")\n",
    "ax.bar_label(ax.containers[0])\n",
    "ax.set_xlim(0,0.65)"
   ],
   "metadata": {
    "collapsed": false,
    "pycharm": {
     "name": "#%%\n"
    }
   }
  }
 ],
 "metadata": {
  "kernelspec": {
   "display_name": "Python 3",
   "language": "python",
   "name": "python3"
  },
  "language_info": {
   "codemirror_mode": {
    "name": "ipython",
    "version": 2
   },
   "file_extension": ".py",
   "mimetype": "text/x-python",
   "name": "python",
   "nbconvert_exporter": "python",
   "pygments_lexer": "ipython2",
   "version": "2.7.6"
  }
 },
 "nbformat": 4,
 "nbformat_minor": 0
}