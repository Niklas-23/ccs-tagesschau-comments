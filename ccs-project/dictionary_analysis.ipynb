{
 "cells": [
  {
   "cell_type": "markdown",
   "source": [
    "# Dictionary Analysis\n",
    "\n",
    "As second method the dictionary analysis is used to identify and count comments from lateral thinkers. The dictionary analysis is a very simple method and is derived from sentiment analysis. Due to the simplicity of the model, the results must be critically examined and questioned at the end. For example, due to the bag-of-words representation in the model, we cannot take negations into account, which can lead to misleading results {cite:p}`atteveldt_computational_2022`.\n",
    "\n",
    "The dictionary used is the RPX-Lex dictionary, which was developed to measure German right-wing populist conspiracy discourse {cite:p}`rpc_lex_dictionary`. The dictionary contains 14,105 terms which are divided into 13 categories, such as Suspicion, Antisemitism or Esotericism {cite:p}`rpc_lex_dictionary`. It should be noted, that some terms appear in more than one category, as they are assigned to several categories. This circumstance will be taken into account later in the analysis so that hits are not counted twice.\n",
    "\n",
    "First, we load the dictionary and as we can see, it contains 14,105 terms as stated in the paper."
   ],
   "metadata": {
    "collapsed": false,
    "pycharm": {
     "name": "#%% md\n"
    }
   }
  },
  {
   "cell_type": "code",
   "execution_count": 2,
   "outputs": [
    {
     "name": "stderr",
     "output_type": "stream",
     "text": [
      "Since the GPL-licensed package `unidecode` is not installed, using Python's `unicodedata` package which yields worse results.\n"
     ]
    }
   ],
   "source": [
    "import matplotlib.pyplot as plt\n",
    "import pandas as pd\n",
    "from cleantext import clean\n",
    "from tqdm import tqdm"
   ],
   "metadata": {
    "collapsed": false,
    "pycharm": {
     "name": "#%%\n"
    }
   }
  },
  {
   "cell_type": "code",
   "execution_count": 3,
   "outputs": [
    {
     "data": {
      "text/plain": "                       term     category_en\n0                    -etage  Scandalization\n1                   #abgase  Scandalization\n2        #kreuzfahrtschiffe  Scandalization\n3      #schwerölverbrennung  Scandalization\n4            #umweltskandal  Scandalization\n...                     ...             ...\n14100     wurzelrassenlehre     Esotericism\n14101                z-plan     Esotericism\n14102          zahlenmystik     Esotericism\n14103           zeitenwende     Esotericism\n14104         zentralwillen     Esotericism\n\n[14105 rows x 2 columns]",
      "text/html": "<div>\n<style scoped>\n    .dataframe tbody tr th:only-of-type {\n        vertical-align: middle;\n    }\n\n    .dataframe tbody tr th {\n        vertical-align: top;\n    }\n\n    .dataframe thead th {\n        text-align: right;\n    }\n</style>\n<table border=\"1\" class=\"dataframe\">\n  <thead>\n    <tr style=\"text-align: right;\">\n      <th></th>\n      <th>term</th>\n      <th>category_en</th>\n    </tr>\n  </thead>\n  <tbody>\n    <tr>\n      <th>0</th>\n      <td>-etage</td>\n      <td>Scandalization</td>\n    </tr>\n    <tr>\n      <th>1</th>\n      <td>#abgase</td>\n      <td>Scandalization</td>\n    </tr>\n    <tr>\n      <th>2</th>\n      <td>#kreuzfahrtschiffe</td>\n      <td>Scandalization</td>\n    </tr>\n    <tr>\n      <th>3</th>\n      <td>#schwerölverbrennung</td>\n      <td>Scandalization</td>\n    </tr>\n    <tr>\n      <th>4</th>\n      <td>#umweltskandal</td>\n      <td>Scandalization</td>\n    </tr>\n    <tr>\n      <th>...</th>\n      <td>...</td>\n      <td>...</td>\n    </tr>\n    <tr>\n      <th>14100</th>\n      <td>wurzelrassenlehre</td>\n      <td>Esotericism</td>\n    </tr>\n    <tr>\n      <th>14101</th>\n      <td>z-plan</td>\n      <td>Esotericism</td>\n    </tr>\n    <tr>\n      <th>14102</th>\n      <td>zahlenmystik</td>\n      <td>Esotericism</td>\n    </tr>\n    <tr>\n      <th>14103</th>\n      <td>zeitenwende</td>\n      <td>Esotericism</td>\n    </tr>\n    <tr>\n      <th>14104</th>\n      <td>zentralwillen</td>\n      <td>Esotericism</td>\n    </tr>\n  </tbody>\n</table>\n<p>14105 rows × 2 columns</p>\n</div>"
     },
     "metadata": {},
     "output_type": "display_data"
    }
   ],
   "source": [
    "rpx_dict = pd.read_csv(\"dictionary_analysis/rpc_lex.csv\", delimiter=\";\")\n",
    "display(rpx_dict[[\"term\", 'category_en']])"
   ],
   "metadata": {
    "collapsed": false,
    "pycharm": {
     "name": "#%%\n"
    }
   }
  },
  {
   "cell_type": "markdown",
   "source": [
    "Then we define the method for the dictionary analysis. The comment is passed to the method and first it is split into a list of words. After that it iterates over each term in the dictionary. First it checks if the term already occurs in the identified terms and if so the iteration is skipped. This check is necessary to skip terms that are part of several categories and therefore already identified. Since the dictionary contains not only single words, but also phrases with several words, we need to take these into account. If the dictionary term is a phrase, it is checked whether the phrase occurs in the text or not, and if the dictionary term is a single word, it is checked whether the word occurs in the list of words created at the beginning."
   ],
   "metadata": {
    "collapsed": false,
    "pycharm": {
     "name": "#%% md\n"
    }
   }
  },
  {
   "cell_type": "code",
   "execution_count": 4,
   "outputs": [],
   "source": [
    "def get_dictionary_analysis_term_occurrence(text: str):\n",
    "    term_occurrence = 0\n",
    "    identified_terms = []\n",
    "    text_tokens = set(text.split(\" \"))\n",
    "    for term in rpx_dict.term.to_list():\n",
    "        if term in identified_terms:\n",
    "            continue # Skip terms that have already been identified but occur in multiple categories\n",
    "\n",
    "        if \" \" in term:\n",
    "            if term in text: # Dictionary term consists of several words\n",
    "                term_occurrence+=1\n",
    "                identified_terms.append(term)\n",
    "        else:\n",
    "            if term in text_tokens: # Dictionary term is a single word\n",
    "                term_occurrence+=1\n",
    "                identified_terms.append(term)\n",
    "    return term_occurrence, identified_terms"
   ],
   "metadata": {
    "collapsed": false,
    "pycharm": {
     "name": "#%%\n"
    }
   }
  },
  {
   "cell_type": "markdown",
   "source": [
    "Before the dictionary analysis can be performed, a bit of preprocessing is required. As before, we load the comments and make sure they are all in string format. Then a function is defined which removes emojis, links and mentions. This method is then applied to all comments. In the end all empty comments are removed, which are basically all comments that only contain emojis."
   ],
   "metadata": {
    "collapsed": false,
    "pycharm": {
     "name": "#%% md\n"
    }
   }
  },
  {
   "cell_type": "code",
   "execution_count": 5,
   "outputs": [],
   "source": [
    "comments_df = pd.read_csv(\"data/youtube_comments_500.csv\")\n",
    "comments_df[\"Comments\"] = comments_df[\"Comments\"].astype(str)\n",
    "\n",
    "def clean_text(text:str):\n",
    "    text = clean(text, no_emoji=True, lang=\"de\")\n",
    "    new_text = []\n",
    "    for token in text.split(\" \"):\n",
    "        if not token.startswith('@') and not token.startswith('http'):\n",
    "            new_text.append(token)\n",
    "    return \" \".join(new_text)\n",
    "\n",
    "comments_df[\"Comments\"] = comments_df[\"Comments\"].apply(lambda text: clean_text(text))\n",
    "comments_df = comments_df[comments_df.Comments != \"\"]"
   ],
   "metadata": {
    "collapsed": false,
    "pycharm": {
     "name": "#%%\n"
    }
   }
  },
  {
   "cell_type": "markdown",
   "source": [
    "Iterating over all comments to apply the dictionary analysis takes several minutes. In the end, two columns are added to the dataframe. One contains the number of dictionary terms found and the other a list of the terms found. We can see that 345,620 comments contain at least one term from the dictionary, which corresponds to 85% of all comments."
   ],
   "metadata": {
    "collapsed": false,
    "pycharm": {
     "name": "#%% md\n"
    }
   }
  },
  {
   "cell_type": "code",
   "execution_count": 6,
   "outputs": [
    {
     "name": "stderr",
     "output_type": "stream",
     "text": [
      "100%|██████████| 401282/401282 [07:10<00:00, 932.33it/s] \n"
     ]
    }
   ],
   "source": [
    "dict_term_occurrence_list = []\n",
    "dict_identified_terms_list = []\n",
    "\n",
    "for text in tqdm(comments_df.Comments.to_list()):\n",
    "    occurrence_counter, identified_terms_list = get_dictionary_analysis_term_occurrence(text)\n",
    "    dict_term_occurrence_list.append(occurrence_counter)\n",
    "    dict_identified_terms_list.append(identified_terms_list)\n",
    "\n",
    "comments_df[\"dict_term_occurrence\"] = dict_term_occurrence_list\n",
    "comments_df[\"dict_identified_terms_list\"] = dict_identified_terms_list\n",
    "comments_df.to_csv(\"data/dictionary_analysis.csv\", index=False)"
   ],
   "metadata": {
    "collapsed": false,
    "pycharm": {
     "name": "#%%\n"
    }
   }
  },
  {
   "cell_type": "code",
   "execution_count": 9,
   "outputs": [
    {
     "data": {
      "text/plain": "        Unnamed: 0                                           Comments  \\\n0                0  wollt ihr jetzt jeden tag einen großen bericht...   \n1                1  wenn scholz alles besser weiss, wieso braucht ...   \n2                2  die grünen hatten früher das peace zeichen als...   \n3                3  der westen ist ein kriegstreiber bis es zu ein...   \n4                4                      frieden schaffen ohne waffen.   \n...            ...                                                ...   \n406236      406236  was die union wieder will, die leute sind doch...   \n406237      406237  kann jeder deutscher werden ,kein problem sola...   \n406238      406238  dann nimm die leute bei dir auf und verpflege ...   \n406239      406239  als staatenloser hatt mans aber auch nicht lei...   \n406240      406240  wann kommt der blackout? kinder könnt ihr ja e...   \n\n        dict_term_occurrence  \\\n0                          7   \n1                          3   \n2                          9   \n3                          6   \n4                          2   \n...                      ...   \n406236                    10   \n406237                     9   \n406238                     1   \n406239                     1   \n406240                     4   \n\n                               dict_identified_terms_list  \n0       [ganz, großen, bericht, schön, panzer, sinnlos...  \n1                                [braucht, wieso, besser]  \n2       [grünen, heute, militär, panzer, wächst, frühe...  \n3       [kommt, lange, idioten, kriegstreiber, westen,...  \n4                                     [schaffen, frieden]  \n...                                                   ...  \n406236  [land, leute, sollen, sowieso, wäre, brauchen,...  \n406237  [gehen, deutsche, überwacht, irgendwelche, arb...  \n406238                                            [leute]  \n406239                                           [stimmt]  \n406240                       [kinder, kommt, wann, könnt]  \n\n[345620 rows x 4 columns]",
      "text/html": "<div>\n<style scoped>\n    .dataframe tbody tr th:only-of-type {\n        vertical-align: middle;\n    }\n\n    .dataframe tbody tr th {\n        vertical-align: top;\n    }\n\n    .dataframe thead th {\n        text-align: right;\n    }\n</style>\n<table border=\"1\" class=\"dataframe\">\n  <thead>\n    <tr style=\"text-align: right;\">\n      <th></th>\n      <th>Unnamed: 0</th>\n      <th>Comments</th>\n      <th>dict_term_occurrence</th>\n      <th>dict_identified_terms_list</th>\n    </tr>\n  </thead>\n  <tbody>\n    <tr>\n      <th>0</th>\n      <td>0</td>\n      <td>wollt ihr jetzt jeden tag einen großen bericht...</td>\n      <td>7</td>\n      <td>[ganz, großen, bericht, schön, panzer, sinnlos...</td>\n    </tr>\n    <tr>\n      <th>1</th>\n      <td>1</td>\n      <td>wenn scholz alles besser weiss, wieso braucht ...</td>\n      <td>3</td>\n      <td>[braucht, wieso, besser]</td>\n    </tr>\n    <tr>\n      <th>2</th>\n      <td>2</td>\n      <td>die grünen hatten früher das peace zeichen als...</td>\n      <td>9</td>\n      <td>[grünen, heute, militär, panzer, wächst, frühe...</td>\n    </tr>\n    <tr>\n      <th>3</th>\n      <td>3</td>\n      <td>der westen ist ein kriegstreiber bis es zu ein...</td>\n      <td>6</td>\n      <td>[kommt, lange, idioten, kriegstreiber, westen,...</td>\n    </tr>\n    <tr>\n      <th>4</th>\n      <td>4</td>\n      <td>frieden schaffen ohne waffen.</td>\n      <td>2</td>\n      <td>[schaffen, frieden]</td>\n    </tr>\n    <tr>\n      <th>...</th>\n      <td>...</td>\n      <td>...</td>\n      <td>...</td>\n      <td>...</td>\n    </tr>\n    <tr>\n      <th>406236</th>\n      <td>406236</td>\n      <td>was die union wieder will, die leute sind doch...</td>\n      <td>10</td>\n      <td>[land, leute, sollen, sowieso, wäre, brauchen,...</td>\n    </tr>\n    <tr>\n      <th>406237</th>\n      <td>406237</td>\n      <td>kann jeder deutscher werden ,kein problem sola...</td>\n      <td>9</td>\n      <td>[gehen, deutsche, überwacht, irgendwelche, arb...</td>\n    </tr>\n    <tr>\n      <th>406238</th>\n      <td>406238</td>\n      <td>dann nimm die leute bei dir auf und verpflege ...</td>\n      <td>1</td>\n      <td>[leute]</td>\n    </tr>\n    <tr>\n      <th>406239</th>\n      <td>406239</td>\n      <td>als staatenloser hatt mans aber auch nicht lei...</td>\n      <td>1</td>\n      <td>[stimmt]</td>\n    </tr>\n    <tr>\n      <th>406240</th>\n      <td>406240</td>\n      <td>wann kommt der blackout? kinder könnt ihr ja e...</td>\n      <td>4</td>\n      <td>[kinder, kommt, wann, könnt]</td>\n    </tr>\n  </tbody>\n</table>\n<p>345620 rows × 4 columns</p>\n</div>"
     },
     "metadata": {},
     "output_type": "display_data"
    }
   ],
   "source": [
    "display(comments_df.loc[comments_df['dict_term_occurrence'] > 0])"
   ],
   "metadata": {
    "collapsed": false,
    "pycharm": {
     "name": "#%%\n"
    }
   }
  },
  {
   "cell_type": "markdown",
   "source": [
    "If we look at a histogram of the distribution of the number of hits, we can see that many comments contain only a few words from the dictionary."
   ],
   "metadata": {
    "collapsed": false,
    "pycharm": {
     "name": "#%% md\n"
    }
   }
  },
  {
   "cell_type": "code",
   "execution_count": 37,
   "outputs": [
    {
     "data": {
      "text/plain": "<matplotlib.legend.Legend at 0x176949ee0>"
     },
     "execution_count": 37,
     "metadata": {},
     "output_type": "execute_result"
    },
    {
     "data": {
      "text/plain": "<Figure size 640x480 with 1 Axes>",
      "image/png": "[encoded data removed]"
     },
     "metadata": {},
     "output_type": "display_data"
    }
   ],
   "source": [
    "hist = comments_df.plot.hist(column=\"dict_term_occurrence\", legend=False, bins=50, range=[0,50])\n",
    "hist.set_xlabel(\"Number of dictionary hits\")\n",
    "hist.set_ylabel(\"Number of comments\")\n",
    "hist.set_title(\"Distribution of the number of hits\")\n",
    "hist.legend([\"Dictionary term occurrence\"])"
   ],
   "metadata": {
    "collapsed": false,
    "pycharm": {
     "name": "#%%\n"
    }
   }
  },
  {
   "cell_type": "markdown",
   "source": [
    "Since many comments contain only a few terms from the dictionary, it might be interesting to see how the comment style changes if one only select comments that contain several terms from the dictionary. The number of comments containing more than four terms from the dictionary is already much smaller. Four or more terms contain only 133,700 comments, which corresponds to 33% of all comments."
   ],
   "metadata": {
    "collapsed": false,
    "pycharm": {
     "name": "#%% md\n"
    }
   }
  },
  {
   "cell_type": "code",
   "execution_count": 38,
   "outputs": [
    {
     "data": {
      "text/plain": "        Unnamed: 0                                           Comments  \\\n0                0  wollt ihr jetzt jeden tag einen großen bericht...   \n2                2  die grünen hatten früher das peace zeichen als...   \n3                3  der westen ist ein kriegstreiber bis es zu ein...   \n7                7  donnor, beweis deine behauptung, die ukraine w...   \n10              10  der fraktionslose bundestagsabgeordnete robert...   \n...            ...                                                ...   \n406222      406222  und außerdem kann sich jeder im krankenhaus be...   \n406223      406223  du hast es nicht verstanden junge ..\\ndie ampe...   \n406233      406233  deutschland hat fertig!\\nausbildung fehlanzeig...   \n406236      406236  was die union wieder will, die leute sind doch...   \n406237      406237  kann jeder deutscher werden ,kein problem sola...   \n\n        dict_term_occurrence  \\\n0                          7   \n2                          9   \n3                          6   \n7                          5   \n10                        12   \n...                      ...   \n406222                     5   \n406223                     7   \n406233                     5   \n406236                    10   \n406237                     9   \n\n                               dict_identified_terms_list  \n0       [ganz, großen, bericht, schön, panzer, sinnlos...  \n2       [grünen, heute, militär, panzer, wächst, frühe...  \n3       [kommt, lange, idioten, kriegstreiber, westen,...  \n7       [deutschland, beweis, ukraine, wagenknecht, so...  \n10      [eigenen, geht, politische, traut, dabei, klar...  \n...                                                   ...  \n406222             [kohle, lassen, völlig, sachen, außer]  \n406223  [deutschland, junge, hast, leben, arbeiten, eu...  \n406233    [deutschland, gerne, unsere, bestimmt, rentner]  \n406236  [land, leute, sollen, sowieso, wäre, brauchen,...  \n406237  [gehen, deutsche, überwacht, irgendwelche, arb...  \n\n[133700 rows x 4 columns]",
      "text/html": "<div>\n<style scoped>\n    .dataframe tbody tr th:only-of-type {\n        vertical-align: middle;\n    }\n\n    .dataframe tbody tr th {\n        vertical-align: top;\n    }\n\n    .dataframe thead th {\n        text-align: right;\n    }\n</style>\n<table border=\"1\" class=\"dataframe\">\n  <thead>\n    <tr style=\"text-align: right;\">\n      <th></th>\n      <th>Unnamed: 0</th>\n      <th>Comments</th>\n      <th>dict_term_occurrence</th>\n      <th>dict_identified_terms_list</th>\n    </tr>\n  </thead>\n  <tbody>\n    <tr>\n      <th>0</th>\n      <td>0</td>\n      <td>wollt ihr jetzt jeden tag einen großen bericht...</td>\n      <td>7</td>\n      <td>[ganz, großen, bericht, schön, panzer, sinnlos...</td>\n    </tr>\n    <tr>\n      <th>2</th>\n      <td>2</td>\n      <td>die grünen hatten früher das peace zeichen als...</td>\n      <td>9</td>\n      <td>[grünen, heute, militär, panzer, wächst, frühe...</td>\n    </tr>\n    <tr>\n      <th>3</th>\n      <td>3</td>\n      <td>der westen ist ein kriegstreiber bis es zu ein...</td>\n      <td>6</td>\n      <td>[kommt, lange, idioten, kriegstreiber, westen,...</td>\n    </tr>\n    <tr>\n      <th>7</th>\n      <td>7</td>\n      <td>donnor, beweis deine behauptung, die ukraine w...</td>\n      <td>5</td>\n      <td>[deutschland, beweis, ukraine, wagenknecht, so...</td>\n    </tr>\n    <tr>\n      <th>10</th>\n      <td>10</td>\n      <td>der fraktionslose bundestagsabgeordnete robert...</td>\n      <td>12</td>\n      <td>[eigenen, geht, politische, traut, dabei, klar...</td>\n    </tr>\n    <tr>\n      <th>...</th>\n      <td>...</td>\n      <td>...</td>\n      <td>...</td>\n      <td>...</td>\n    </tr>\n    <tr>\n      <th>406222</th>\n      <td>406222</td>\n      <td>und außerdem kann sich jeder im krankenhaus be...</td>\n      <td>5</td>\n      <td>[kohle, lassen, völlig, sachen, außer]</td>\n    </tr>\n    <tr>\n      <th>406223</th>\n      <td>406223</td>\n      <td>du hast es nicht verstanden junge ..\\ndie ampe...</td>\n      <td>7</td>\n      <td>[deutschland, junge, hast, leben, arbeiten, eu...</td>\n    </tr>\n    <tr>\n      <th>406233</th>\n      <td>406233</td>\n      <td>deutschland hat fertig!\\nausbildung fehlanzeig...</td>\n      <td>5</td>\n      <td>[deutschland, gerne, unsere, bestimmt, rentner]</td>\n    </tr>\n    <tr>\n      <th>406236</th>\n      <td>406236</td>\n      <td>was die union wieder will, die leute sind doch...</td>\n      <td>10</td>\n      <td>[land, leute, sollen, sowieso, wäre, brauchen,...</td>\n    </tr>\n    <tr>\n      <th>406237</th>\n      <td>406237</td>\n      <td>kann jeder deutscher werden ,kein problem sola...</td>\n      <td>9</td>\n      <td>[gehen, deutsche, überwacht, irgendwelche, arb...</td>\n    </tr>\n  </tbody>\n</table>\n<p>133700 rows × 4 columns</p>\n</div>"
     },
     "metadata": {},
     "output_type": "display_data"
    }
   ],
   "source": [
    "display(comments_df.loc[comments_df['dict_term_occurrence'] > 4])"
   ],
   "metadata": {
    "collapsed": false,
    "pycharm": {
     "name": "#%%\n"
    }
   }
  },
  {
   "cell_type": "markdown",
   "source": [
    "In order to check the analysis, random examples from the comments are selected and classified below. If a sample is taken from all comments that contain at least one term from the dictionary, the following comments can be assigned to the lateral thinking movement:\n",
    "\n",
    "- Sample 392575\n",
    "- Sample 99556\n",
    "- Sample 128489\n",
    "- (Sample 318015)\n",
    "- Smaple 64994\n",
    "- (Sample 4130)"
   ],
   "metadata": {
    "collapsed": false,
    "pycharm": {
     "name": "#%% md\n"
    }
   }
  },
  {
   "cell_type": "code",
   "execution_count": 40,
   "outputs": [
    {
     "name": "stdout",
     "output_type": "stream",
     "text": [
      "Sample 392575: ['deutschland', 'frauen', 'zieht', 'geburtenrate']\n",
      "\n",
      "\"taliban verbannen frauen von universitäten\" - deutschland 2050 dank invasion, geburtenrate und des vernichtungshasses der ökobolschewisten. zieht euch warm an, mädels.\n",
      "------------------------------------------------------------------------------------------------------------------------------------------------------\n",
      "Sample 99556: ['bereicherern', 'bilder', 'zeigt', 'lieber', 'staatsfunk', 'zeigen', 'ausländischen']\n",
      "\n",
      "hat der staatsfunk keine bilder von den bereicherern zeigen wollen? ihr zeigt lieber bilder von ausländischen faschisten.\n",
      "------------------------------------------------------------------------------------------------------------------------------------------------------\n",
      "Sample 128489: ['blödsinn', 'einfach', 'mitbekommen', 'rest', 'warum', 'arzt', 'politiker']\n",
      "\n",
      "ich habe auch schon während der \"maskenpflicht\" keine maske getragen. ich habe mir einfach ein attest vom arzt geholt und fertig. ich habe mich nur gewundert, warum der rest bei diesem blödsinn mit den masken mitmacht. zumal doch alle mitbekommen haben, dass es bei den masken nur darum ging, dass als politiker getarnte pharmalobbyisten an den maskendeals verdienen.\n",
      "------------------------------------------------------------------------------------------------------------------------------------------------------\n",
      "Sample 318015: ['öffentlichen', 'bitte']\n",
      "\n",
      "bitte reform des öffentlichen rundfunks.\n",
      "------------------------------------------------------------------------------------------------------------------------------------------------------\n",
      "Sample 305435: ['warum']\n",
      "\n",
      "und warum haben sie den kosovo blockiert?\n",
      "------------------------------------------------------------------------------------------------------------------------------------------------------\n",
      "Sample 316087: ['berichtet', 'regierungen', 'warum', 'proteste']\n",
      "\n",
      "warum berichtet ihr nicht über die massiven proteste gegen die regierungen in peru und brasilien?\n",
      "------------------------------------------------------------------------------------------------------------------------------------------------------\n",
      "Sample 64994: ['bekämpft', 'einfach', 'wissen', 'wie', 'wahren', 'chinesen']\n",
      "\n",
      "einfach mal die wahren infektionszahlen zensiert.\n",
      "die chinesen wissen wie viren bekämpft werden.\n",
      "------------------------------------------------------------------------------------------------------------------------------------------------------\n",
      "Sample 4130: ['stellen', 'militär', 'besser', 'sollten', 'usa']\n",
      "\n",
      "ich finde, wir sollten unser militär besser unter das kommando der usa stellen !\n",
      "------------------------------------------------------------------------------------------------------------------------------------------------------\n",
      "Sample 189388: ['bedeutet']\n",
      "\n",
      "bedeutet das, es sind 15, 5, oder -10 grad in der ukraine?\n",
      "------------------------------------------------------------------------------------------------------------------------------------------------------\n",
      "Sample 233506: ['macht', 'mächtige', 'politik', 'viele', 'wie', 'anarchie', 'selten']\n",
      "\n",
      "für wie viele sekunden? anarchie ist selten stabil und viele mächtige können ihre macht auch ohne politik nutzen.\n",
      "------------------------------------------------------------------------------------------------------------------------------------------------------\n"
     ]
    }
   ],
   "source": [
    "for index, values in comments_df.loc[comments_df['dict_term_occurrence'] > 0].sample(10)[\n",
    "    [\"Comments\", \"dict_identified_terms_list\"]].iterrows():\n",
    "    print(f\"Sample {index + 1}: {values['dict_identified_terms_list']}\\n\")\n",
    "    print(values[\"Comments\"])\n",
    "    print(\"-\" * 150)"
   ],
   "metadata": {
    "collapsed": false,
    "pycharm": {
     "name": "#%%\n"
    }
   }
  },
  {
   "cell_type": "markdown",
   "source": [
    "To check the quality of the dictionary analysis, we also look at how many hits can be confirmed if at least 4 or 10 words from the dictionary appear in the comment. With at least 4 comments, the following samples can be assigned to the lateral thinking movement:\n",
    "\n",
    "- Sample 320027\n",
    "- Sample 380858\n",
    "- Sample 289717\n",
    "- Sample 363650"
   ],
   "metadata": {
    "collapsed": false,
    "pycharm": {
     "name": "#%% md\n"
    }
   }
  },
  {
   "cell_type": "code",
   "execution_count": 45,
   "outputs": [
    {
     "name": "stdout",
     "output_type": "stream",
     "text": [
      "Sample 320027: ['arbeit', 'dafür', 'artikel', 'merkt', 'sklaven', 'sklaverei', 'spielen', 'niemals', 'reichen', 'gesellschaft', 'solange', 'naja', 'normaler']\n",
      "\n",
      "chancengleichheit sind leere versprechen. mit normaler arbeit wird man niemals reich. ihr sklaven dürft die supersportwagen jachten luxus artikel und villas für die reichen bauen. und kriegt dafür hungerlohn. ist das gerechtigkeit?\n",
      "oder moderne sklaverei mit vorzügen. naja wenn kümmert es, spielen ja alle brav mit. solange es klassen gesellschaft gibt. aber nichts ist für ewig. merkt euch meine wörter.\n",
      "------------------------------------------------------------------------------------------------------------------------------------------------------\n",
      "Sample 380858: ['seit', 'sollen', 'wegen', 'irgendeine', 'teppich', 'themen', 'kurze', 'chinesen', 'gestern']\n",
      "\n",
      "themen der sendung:\n",
      "00:00 - hi ihr ottos\n",
      "00:21 - mccarthy seit gestern nicht beliebter geworden\n",
      "03:33 - chinesen sollen bei einreise auf vertrauenswürdigkeit getestet werden\n",
      "05:49 - sylvestergewalt nur ausdruck von integrationswunsch\n",
      "08:38 - ehrenparade und roter teppich für lambrecht wegen puma-erfolg\n",
      "10:54 - frankreich hat funktionierende panzer\n",
      "11:20 - ex-papst immer noch tot\n",
      "11:47 - irgendeine britin jetzt auch tot\n",
      "12:17 - kurze unterbrechung\n",
      "13:50 - die ottozahlen\n",
      "14:10 - wetter: herbst\n",
      "------------------------------------------------------------------------------------------------------------------------------------------------------\n",
      "Sample 10895: ['finde', 'jahr', 'wurde', 'dabei', 'grünen', 'ziele', 'gesehen', 'fdp', 'stärken']\n",
      "\n",
      "ich finde es gut das die spd, fdp und die grünen ihr ziele stärken verfolgen/durchsetzten wollen. was dabei rauskommt haben wir letztes jahr gesehen als nur noch diskutiert wurde und man sich auf nix einigen konnte.\n",
      "------------------------------------------------------------------------------------------------------------------------------------------------------\n",
      "Sample 289717: ['dafür', 'geht', 'polizei', 'traurig', 'unsere', 'angeblichen', 'mann', 'wer', 'wo', 'müssen', 'staat', 'um die', 'sinnlose', 'unseren', 'verschwenden', 'bundestag', 'steuergelder', 'bezahlen', 'garnicht', 'gleich', 'bitten', 'deutscher', 'klima']\n",
      "\n",
      "die angeblichen klima schützer das ich nicht lache machen nur ärger wo sie können und verschwenden unsere steuergelder für sinnlose polizei einsätze die sie dann von den objekten gereummt werden und wer zahlt das alles wir von unseren steuergelder geht garnicht alle die meinen sich ögenwo an zu ketten und die polizei zu behindern sollte mann gleich zu kasse bitten um die gelder der einsätze der polizei wieder zubekommen damit nicht wir alle steuerbürger dafür bezahlen müssen sonder nur die solche einsätze auslösen es ist traurig von den staat das die klima aktiviesten nicht zu kasse gebeten werden können die solche einsätze verursacht tübisch deutscher bundestag keiner will sich die händeverbrennen\n",
      "------------------------------------------------------------------------------------------------------------------------------------------------------\n",
      "Sample 317230: ['deutschland', 'ansichten', 'gibt', 'idioten', 'unserer', 'warum', 'verstehe', 'linken', 'konsens', 'politiker', 'afd']\n",
      "\n",
      "ich verstehe die linken & afd nicht ihre politiker haben bis auf kleinigkeiten die selben ansichten warum gibt es hier keinen konsens gegen die idioten unserer regierung..\n",
      "grün ist in deutschland ja schon ein synonym für blödheit.\n",
      "------------------------------------------------------------------------------------------------------------------------------------------------------\n",
      "Sample 363650: ['hass', 'mehrheit', 'überwältigende', 'wegen', 'grund', 'wahre', 'von wegen', 'eu', 'usa', 'hetze', 'vorgehen']\n",
      "\n",
      "von wegen hass und hetze bei twitter....die überwältigende mehrheit will die begnadigung von snowden und assange! oder ist das der wahre grund dafür, dass die usa hörige eu gegen twitter/musk vorgehen will.\n",
      "------------------------------------------------------------------------------------------------------------------------------------------------------\n",
      "Sample 182816: ['kommen', 'macht', 'beginn', 'heute', 'laut', 'russischen', 'russland', 'bekannten', 'handeln', 'putin', 'daher', 'doktor', 'professor', 'westen', 'aktiv']\n",
      "\n",
      "die vorhersagen der weltberühmten bulgarischen hellseherin baba vanga werden heute in putin-russland von putin-propagandamachern sehr aktiv genutzt. baba vanga hat wiederholt erklärt, dass ab dem beginn des 21. jahrhunderts wladimir in russland an die macht kommen wird, der den westen besiegen und russland wird zum spirituellen zentrum der welt. daher ist es möglich, dass putin sich in seinem handeln unter anderem von den vorhersagen von baba vanga leiten lässt, denn laut dem bekannten russischen oppositionsblogger, politikanalytiker, professor und doktor der geschichtswissenschaften valeri solowej, ist wladimir putin dem spiritualismus sehr zugetan.\n",
      "------------------------------------------------------------------------------------------------------------------------------------------------------\n",
      "Sample 118531: ['deutschland', 'ermordet', 'heucheln', 'irgendetwas', 'fehlt', 'mädchen']\n",
      "\n",
      "wenn es den gesinnungsbraunen sektendepp:innen an erinnerungsvermögen fehlt und es ihnen \"unglaublich\" und \"unvorstellbar\" vorkommt, dass 14-jährige mädchen in deutschland ermordet werden; wenn sie beileid heucheln und irgendetwas fordern:\n",
      "gesinnungsbraune sektendepp:innen haben beispielsweise diese 14-jährigen mädchen ermordet: ayse, 1996 in mölln; miya, 1996 in lübeck; jana, 1998 in saalfeld/saale; armela, 2016 on münchen, sabine, 2016 in münchen.\n",
      "------------------------------------------------------------------------------------------------------------------------------------------------------\n",
      "Sample 222739: ['feindlich', 'interesse', 'wissen', 'wer', 'deutliches', 'eventuell', 'russland', 'daran', 'regieren', 'usa', 'china', 'gegenüber']\n",
      "\n",
      "solemnis\n",
      "zu wissen wer in den usa regiert, ist für alle relevant.\n",
      "egal ob man den usa freundlich, oder feindlich gegenüber steht.\n",
      "dies hat nichts mit winseln zu tun.\n",
      "auch in russland und china hat man ein deutliches interesse daran zu wissen, wer regiert, oder eventuell regieren könnte.\n",
      "lg\n",
      "------------------------------------------------------------------------------------------------------------------------------------------------------\n",
      "Sample 31931: ['kinder', 'macht', 'sagen', 'schieben', 'namen', 'bestimmt', 'cdu', 'guten', 'wähler', 'schule']\n",
      "\n",
      "der typ , der meinem 1/2 namen geklaut hat , ist eine rampensau , der sich immer in den vordergrund schieben muß . bestimmt hat er schon in der schule andere kinder verpetzt , um sich bei den leheren beliebt zu machen .\n",
      "übrigens : ich bin zwar kein wähler der cdu , aber ich muß sagen , dass unser ministerpräsident daniel günther einen guten job macht .\n",
      "grüße aus dem hohen norden .\n",
      "------------------------------------------------------------------------------------------------------------------------------------------------------\n"
     ]
    }
   ],
   "source": [
    "for index, values in comments_df.loc[comments_df['dict_term_occurrence'] > 4].sample(10)[[\"Comments\", \"dict_identified_terms_list\"]].iterrows():\n",
    "    print(f\"Sample {index+1}: {values['dict_identified_terms_list']}\\n\")\n",
    "    print(values[\"Comments\"])\n",
    "    print(\"-\"*150)"
   ],
   "metadata": {
    "collapsed": false,
    "pycharm": {
     "name": "#%%\n"
    }
   }
  },
  {
   "cell_type": "markdown",
   "source": [
    "With at least 4 comments, the following samples can be assigned to the lateral thinking movement:\n",
    "\n",
    "- Smaple 88531\n",
    "- Sample 158036\n",
    "- Sample 308754\n",
    "- Sample 124415\n",
    "- Sample 341145\n",
    "- Sample 205747"
   ],
   "metadata": {
    "collapsed": false,
    "pycharm": {
     "name": "#%% md\n"
    }
   }
  },
  {
   "cell_type": "code",
   "execution_count": 48,
   "outputs": [
    {
     "name": "stdout",
     "output_type": "stream",
     "text": [
      "Sample 88531: ['deutschland', 'eigenen', 'falsche', 'geht', 'sowas', 'brauchen', 'wie', 'welt', 'gelöst', 'genug', 'probleme', 'verdienst', 'china']\n",
      "\n",
      "cruhser\n",
      "oh, falsche antwort, 1. mein verdienst ist überdurchschnittlich und geht dich ein scheißdreck an. und 2. ist mir die baerbock sowas von scheißegal, die fährt durch die welt und verhält sich wie ein holzklotz und will auch noch china ans bein pischern. die ist behindert man. und es geht darum das wir im eigenen land, in deutschland genug probleme haben, die erstmal gelöst werden müssen. und sollche steuergeldverteilerrin brauchen wir schon mal garnicht.\n",
      "du intelligenzbestie.\n",
      "------------------------------------------------------------------------------------------------------------------------------------------------------\n",
      "Sample 158036: ['deutschland', 'eins', 'kommen', 'kotzt', 'zwei', 'beitrag', 'schwer', 'tage', 'tote', 'reichsbürger', 'messer', 'asylbewerber', 'mädchen']\n",
      "\n",
      "es war wieder klar, dass zwei tage nachdem ein asylbewerber ein mädchen mit einem messer schwer verletzt- und eins zu tote gemetzelt hat, jetzt ein beitrag zu reichsbürgern kommen musste. dieser heuchler-staat kotzt mich so an. die reichsbürger sind in deutschland das kleinste problem.\n",
      "------------------------------------------------------------------------------------------------------------------------------------------------------\n",
      "Sample 308754: ['ganze', 'jahr', 'jahren', 'leute', 'seit', 'verlogene', 'zurück', 'hört', 'schön', 'sieht', 'geschickt', 'gespielt', 'gute', 'karten']\n",
      "\n",
      "magyarorszagon richtig. und schön verlogen. das ganze jahr hört und sieht man mache leute nicht aber weihnachten melden die sich dann. ich habe karten zurück geschickt und anrufe ignoriert. alle kontakte abgebrochen. nun habe ich seit einigen jahren niemanden mehr weil ich das verlogene getunte nicht mit gespielt habe. ihnen eine gute zeit.\n",
      "------------------------------------------------------------------------------------------------------------------------------------------------------\n",
      "Sample 124415: ['deutschen', 'land', 'traurig', 'überhaupt', 'geworden', 'läuft', 'nachrichten', 'vertuschen', 'ganzen', 'dreck', 'ausland', 'deutsches']\n",
      "\n",
      "läuft in den deutschen nachrichten überhaupt noch was deutsches oder wird immer nur übers ausland berichtet? damit man den ganzen dreck hier vertuschen kann oder so traurig was aus diesem land hier geworden ist.\n",
      "------------------------------------------------------------------------------------------------------------------------------------------------------\n",
      "Sample 107110: ['bekommt', 'klar', 'leugnet', 'merkel', 'video', 'wissen', 'davon', 'gibt', 'partei', 'wahrheit', 'neue', 'stehen', 'einzige', 'flüchtlingskrise', 'folgen', 'misere', 'afd', 'migrationspolitik']\n",
      "\n",
      "bei julian reichelt gibt es ein gutes video zur misere \"die wahrheit über die neue flüchtlingskrise // faeser leugnet migrations-probleme!\": von der ampel-regierung wird viel versprochen, es folgen aber keine taten. und die kommunen stehen kurz vorm kollaps. davon will die zuständige innenministerin faeser (spd) aber nichts wissen - aus angst, die afd bekommt mehr stimmen.\n",
      "wie gesagt: die afd ist die einzige partei im bundestag, die schon unter merkel klar gegen die migrationspolitik gewesen ist.\n",
      "------------------------------------------------------------------------------------------------------------------------------------------------------\n",
      "Sample 341145: ['ganz', 'kommt', 'instrumentalisieren', 'medienwirksam', 'mittlerweile', 'politisch', 'polizisten', 'bitte', 'darin', 'verbreitet', 'müsste']\n",
      "\n",
      "nachdem alle \"böllermänner\" wieder auf freiem fuß sind, müsste nun, nach muster, der offene opferbrief eines verletzten polizisten o.a. medienwirksam verbreitet werden. darin appelliert man beruhigend an die bürger, das silvesterchaos bitte nicht politisch zu instrumentalisieren um gegen \"rächts\" vorzugehen..............oder war's andersrum? man kommt ja mittlerweile ganz durcheinander!\n",
      "------------------------------------------------------------------------------------------------------------------------------------------------------\n",
      "Sample 166147: ['darf', 'gerecht', 'leute', 'volk', 'wohl', 'denke', 'deutsche', 'gibt', 'namen', 'wenig', 'wer', 'wiederum', 'bleibt', 'ganzen', 'wunschdenken', 'besser', 'arbeiten', 'halten', 'wahrscheinlich', 'gewählt', 'spd', 'verlangt']\n",
      "\n",
      "ja dann informier dich mal wer jetzt verteidigungsminister werden könnte\n",
      "es gibt jetzt schon 3 namen\n",
      "aber die können die qualifikationen die du hier verlangst und die ich hier und auch ich denke mal auch das gesamte deutsche volk hier verlangt nicht gerecht werden\n",
      "3 namen die wiederum nichts bringen\n",
      "1. lars klingbeil spd vorsitzender\n",
      "2. eva högl spd mitglied\n",
      "3. siemtje möller\n",
      "schade kein general a.d. dabei\n",
      "also im groben und ganzen könntest ein klein wenig besser werden aber das war's dann aber auch\n",
      "es sei denn die ausgewählten leute wenn sie dann als verteidigungsminister gewählt werden arbeiten für das verteidigungsministerium und für dieses deutsche volk\n",
      "was sehr wahrscheinlich nur ein wunschdenken ist\n",
      "träumen darf man ja wohl noch oder ?\n",
      "weil träume halten einen am leben\n",
      "aber ich denke mal das bleibt alles ihr eim traum\n",
      "------------------------------------------------------------------------------------------------------------------------------------------------------\n",
      "Sample 205747: ['wegen', 'fall', 'mann', 'wer', 'auf jeden fall', 'gesehen', 'irgendwelche', 'hauptsache', 'holen', 'stand', 'asylanten']\n",
      "\n",
      "auf jeden fall sonst machen die nur scheiße, dann holen die irgendwelche asylanten und die machen das, hauptsache billig, hat mann gesehen bei corona, wer stand supermärkte und so weiter an der tür und hat geschaut wegen masken, ausländer!\n",
      "------------------------------------------------------------------------------------------------------------------------------------------------------\n",
      "Sample 230148: ['geht', 'herr', 'schande', 'sofort', 'verleugnet', 'herrn', 'wahre', 'wahren', 'welt', 'gott', 'wort', 'werdet', 'jesus']\n",
      "\n",
      "tut sofort wahre buße erniedrigt euch in schande all eurer sünden vor dem herrn jesus christus. nimmt gottes gnade an. verleugnet euer sündiges leben. werdet knechte gottes. evangelisiert 24 stunden. liest gottes wort die bibel und liebt nicht diese welt noch was in der welt ist. ihr dürft nix mehr wollen. vertraut nur herrn jesus christus. geht zu den ungläubigen hin und bekehrt sie zum einzig wahren gott herr jesus christus.\n",
      "------------------------------------------------------------------------------------------------------------------------------------------------------\n",
      "Sample 210313: ['gebiete', 'kohle', 'rest', 'deutlich', 'einwohner', 'verschweigen', 'wie', 'wo', 'recht', 'genug', 'rein', 'bestimmt', 'entscheidungsträger']\n",
      "\n",
      "rwe ist rein kommerziell orientiert, die entscheidungsträger bei rwe würden sich bestimmt nicht den aufwand machen und einwohner entschädigen, gebäude abreißen und gebiete absperren, wenn wo anders noch genug leicht zugängliche kohle ist. studien, die behaupten, dass das bisherige abbaugebiet ausreiche, verschweigen oft, dass der aufwand (und damit auch die co2 produktion) für den rest des bisherigen abbaugebietes deutlich höher ist, wie für die relativ leicht zugängliche kohle unter dem recht kleinem ort lützerath.\n",
      "------------------------------------------------------------------------------------------------------------------------------------------------------\n"
     ]
    }
   ],
   "source": [
    "for index, values in comments_df.loc[comments_df['dict_term_occurrence'] > 10].sample(10)[[\"Comments\", \"dict_identified_terms_list\"]].iterrows():\n",
    "    print(f\"Sample {index+1}: {values['dict_identified_terms_list']}\\n\")\n",
    "    print(values[\"Comments\"])\n",
    "    print(\"-\"*150)"
   ],
   "metadata": {
    "collapsed": false,
    "pycharm": {
     "name": "#%%\n"
    }
   }
  }
 ],
 "metadata": {
  "kernelspec": {
   "display_name": "Python 3",
   "language": "python",
   "name": "python3"
  },
  "language_info": {
   "codemirror_mode": {
    "name": "ipython",
    "version": 2
   },
   "file_extension": ".py",
   "mimetype": "text/x-python",
   "name": "python",
   "nbconvert_exporter": "python",
   "pygments_lexer": "ipython2",
   "version": "2.7.6"
  }
 },
 "nbformat": 4,
 "nbformat_minor": 0
}