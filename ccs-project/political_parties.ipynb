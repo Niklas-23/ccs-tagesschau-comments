{
 "cells": [
  {
   "cell_type": "markdown",
   "source": [
    "# Political parties\n",
    "\n",
    "Another very interesting transformer model is the GermanPolitical-Gelectra-base model that was published in collaboration between the University of Hamburg and Ludwig Maximilians University Munich on Huggingface. The model can analyse the political sentiment of statements and evaluate to what extent the different popular German parties would agree with the statement {cite:p}`political_parties`. The model should be used to assign a political party and thus a political orientation to each comment.\n",
    "\n",
    "The model is based on an pretrained ELECTRA model for German language tasks {cite:p}`political_parties`. Since the pre-processing for this transformer is the same as for the sentiment analysis, it will not be explained further."
   ],
   "metadata": {
    "collapsed": false,
    "pycharm": {
     "name": "#%% md\n"
    }
   }
  },
  {
   "cell_type": "code",
   "execution_count": 2,
   "outputs": [],
   "source": [
    "from IPython.core.display_functions import display\n",
    "import pandas as pd\n",
    "from tqdm import tqdm\n",
    "from transformers import AutoConfig, AutoTokenizer, AutoModelForSequenceClassification\n",
    "import torch\n",
    "from cleantext import clean"
   ],
   "metadata": {
    "collapsed": false,
    "pycharm": {
     "name": "#%%\n"
    }
   }
  },
  {
   "cell_type": "code",
   "execution_count": 4,
   "outputs": [
    {
     "data": {
      "text/plain": "        Unnamed: 0                                           Comments\n0                0  wollt ihr jetzt jeden tag einen großen bericht...\n1                1  wenn scholz alles besser weiss, wieso braucht ...\n2                2  die grünen hatten früher das peace zeichen als...\n3                3  der westen ist ein kriegstreiber bis es zu ein...\n4                4                      frieden schaffen ohne waffen.\n...            ...                                                ...\n406237      406237  kann jeder deutscher werden ,kein problem sola...\n406238      406238  dann nimm die leute bei dir auf und verpflege ...\n406239      406239  als staatenloser hatt mans aber auch nicht lei...\n406240      406240  wann kommt der blackout? kinder könnt ihr ja e...\n406241      406241  den blackout auf den du wartest, wird es nur g...\n\n[401282 rows x 2 columns]",
      "text/html": "<div>\n<style scoped>\n    .dataframe tbody tr th:only-of-type {\n        vertical-align: middle;\n    }\n\n    .dataframe tbody tr th {\n        vertical-align: top;\n    }\n\n    .dataframe thead th {\n        text-align: right;\n    }\n</style>\n<table border=\"1\" class=\"dataframe\">\n  <thead>\n    <tr style=\"text-align: right;\">\n      <th></th>\n      <th>Unnamed: 0</th>\n      <th>Comments</th>\n    </tr>\n  </thead>\n  <tbody>\n    <tr>\n      <th>0</th>\n      <td>0</td>\n      <td>wollt ihr jetzt jeden tag einen großen bericht...</td>\n    </tr>\n    <tr>\n      <th>1</th>\n      <td>1</td>\n      <td>wenn scholz alles besser weiss, wieso braucht ...</td>\n    </tr>\n    <tr>\n      <th>2</th>\n      <td>2</td>\n      <td>die grünen hatten früher das peace zeichen als...</td>\n    </tr>\n    <tr>\n      <th>3</th>\n      <td>3</td>\n      <td>der westen ist ein kriegstreiber bis es zu ein...</td>\n    </tr>\n    <tr>\n      <th>4</th>\n      <td>4</td>\n      <td>frieden schaffen ohne waffen.</td>\n    </tr>\n    <tr>\n      <th>...</th>\n      <td>...</td>\n      <td>...</td>\n    </tr>\n    <tr>\n      <th>406237</th>\n      <td>406237</td>\n      <td>kann jeder deutscher werden ,kein problem sola...</td>\n    </tr>\n    <tr>\n      <th>406238</th>\n      <td>406238</td>\n      <td>dann nimm die leute bei dir auf und verpflege ...</td>\n    </tr>\n    <tr>\n      <th>406239</th>\n      <td>406239</td>\n      <td>als staatenloser hatt mans aber auch nicht lei...</td>\n    </tr>\n    <tr>\n      <th>406240</th>\n      <td>406240</td>\n      <td>wann kommt der blackout? kinder könnt ihr ja e...</td>\n    </tr>\n    <tr>\n      <th>406241</th>\n      <td>406241</td>\n      <td>den blackout auf den du wartest, wird es nur g...</td>\n    </tr>\n  </tbody>\n</table>\n<p>401282 rows × 2 columns</p>\n</div>"
     },
     "metadata": {},
     "output_type": "display_data"
    }
   ],
   "source": [
    "comments_df = pd.read_csv(\"data/youtube_comments_500.csv\")\n",
    "comments_df[\"Comments\"] = comments_df[\"Comments\"].astype(str)\n",
    "\n",
    "def clean_text(text:str):\n",
    "    text = clean(text, no_emoji=True, lang=\"de\")\n",
    "    new_text = []\n",
    "    for token in text.split(\" \"):\n",
    "        if not token.startswith('@') and not token.startswith('http'):\n",
    "            new_text.append(token)\n",
    "    return \" \".join(new_text)\n",
    "\n",
    "comments_df[\"Comments\"] = comments_df[\"Comments\"].apply(lambda text: clean_text(text))\n",
    "comments_df =comments_df[comments_df.Comments != \"\"]\n",
    "display(comments_df)"
   ],
   "metadata": {
    "collapsed": false,
    "pycharm": {
     "name": "#%%\n"
    }
   }
  },
  {
   "cell_type": "markdown",
   "source": [
    "The analysis with this model works somewhat differently than with the sentiment analysis. The model works in such a way that the party must be specified at the beginning of the input and then the statement follows. The model then returns the party's agreement with the statement in the form of two values. One value represents how much the party agrees and the other represents how much the party disagrees with the statement. Currently the model supports the 6 major parties in Germany: CDU/CSU, SPD, FDP, Grüne, Die Linke and AFD. Since we have about 400,000 comments, this means that the model must perform 2.4 million inferences to find the party that most agrees with the statement for each comment.\n",
    "\n",
    "For the nalaysis, the input for each party is created in the inner for loop and then passed on to the model. The is is checked whether the approval value is higher than the previous maximum value. If this is the case, the current party with the highest approval rating is updated. At the end, for each comment the party with the highest approval and the corresponding confidence value for the approval are added. Then the dataframe is saved. Due to the large number of inferences, this analysis takes a particularly long time and required about 60 hours on the hardware used."
   ],
   "metadata": {
    "collapsed": false,
    "pycharm": {
     "name": "#%% md\n"
    }
   }
  },
  {
   "cell_type": "code",
   "execution_count": null,
   "outputs": [],
   "source": [
    "model_name = \"UHH-CI/GermanPolitical-Gelectra-base\"\n",
    "sentiment_tokenizer = AutoTokenizer.from_pretrained(model_name)\n",
    "sentiment_model_config = AutoConfig.from_pretrained(model_name)\n",
    "sentiment_model = AutoModelForSequenceClassification.from_pretrained(model_name, from_tf=True)\n",
    "\n",
    "label_list = []\n",
    "score_list = []\n",
    "\n",
    "political_parties = [\"cdu/csu\",\"spd\",\"fdp\",\"grüne\",\"die linke\",\"afd\"]\n",
    "\n",
    "for text in tqdm(comments_df.Comments.to_list()):\n",
    "    top_party_name = \"\"\n",
    "    top_party_score = 0\n",
    "    for party in political_parties:\n",
    "        input_text = party+\": \"+text\n",
    "        tokenized_input = sentiment_tokenizer(input_text, padding=True, truncation=True, return_tensors='pt', max_length=512)\n",
    "        output = sentiment_model(**tokenized_input)\n",
    "        prediction = torch.nn.functional.softmax(output.logits, dim=-1)\n",
    "        prediction = prediction.detach().numpy()[0]\n",
    "        if top_party_score < prediction[0]: # label[0] indicates the value for the consent\n",
    "            top_party_name = party\n",
    "            top_party_score = prediction[0]\n",
    "\n",
    "    label_list.append(top_party_name)\n",
    "    score_list.append(top_party_score)\n",
    "\n",
    "comments_df[\"political_party\"] = label_list\n",
    "comments_df[\"political_party_score\"] = score_list\n",
    "comments_df.to_csv(\"data/political_parties.csv\")"
   ],
   "metadata": {
    "collapsed": false,
    "pycharm": {
     "name": "#%%\n",
     "is_executing": true
    }
   }
  },
  {
   "cell_type": "code",
   "execution_count": 4,
   "outputs": [
    {
     "data": {
      "text/plain": "                                                 Comments political_party  \\\n0       wollt ihr jetzt jeden tag einen großen bericht...       die linke   \n1       wenn scholz alles besser weiss, wieso braucht ...             spd   \n2       die grünen hatten früher das peace zeichen als...             afd   \n3       der westen ist ein kriegstreiber bis es zu ein...         cdu/csu   \n4                           frieden schaffen ohne waffen.       die linke   \n...                                                   ...             ...   \n401277  kann jeder deutscher werden ,kein problem sola...           grüne   \n401278  dann nimm die leute bei dir auf und verpflege ...             spd   \n401279  als staatenloser hatt mans aber auch nicht lei...       die linke   \n401280  wann kommt der blackout? kinder könnt ihr ja e...             afd   \n401281  den blackout auf den du wartest, wird es nur g...         cdu/csu   \n\n        political_party_score  \n0                    0.498146  \n1                    0.922301  \n2                    0.629976  \n3                    0.999133  \n4                    0.999104  \n...                       ...  \n401277               0.882378  \n401278               0.999311  \n401279               0.997392  \n401280               0.901219  \n401281               0.997556  \n\n[401282 rows x 3 columns]",
      "text/html": "<div>\n<style scoped>\n    .dataframe tbody tr th:only-of-type {\n        vertical-align: middle;\n    }\n\n    .dataframe tbody tr th {\n        vertical-align: top;\n    }\n\n    .dataframe thead th {\n        text-align: right;\n    }\n</style>\n<table border=\"1\" class=\"dataframe\">\n  <thead>\n    <tr style=\"text-align: right;\">\n      <th></th>\n      <th>Comments</th>\n      <th>political_party</th>\n      <th>political_party_score</th>\n    </tr>\n  </thead>\n  <tbody>\n    <tr>\n      <th>0</th>\n      <td>wollt ihr jetzt jeden tag einen großen bericht...</td>\n      <td>die linke</td>\n      <td>0.498146</td>\n    </tr>\n    <tr>\n      <th>1</th>\n      <td>wenn scholz alles besser weiss, wieso braucht ...</td>\n      <td>spd</td>\n      <td>0.922301</td>\n    </tr>\n    <tr>\n      <th>2</th>\n      <td>die grünen hatten früher das peace zeichen als...</td>\n      <td>afd</td>\n      <td>0.629976</td>\n    </tr>\n    <tr>\n      <th>3</th>\n      <td>der westen ist ein kriegstreiber bis es zu ein...</td>\n      <td>cdu/csu</td>\n      <td>0.999133</td>\n    </tr>\n    <tr>\n      <th>4</th>\n      <td>frieden schaffen ohne waffen.</td>\n      <td>die linke</td>\n      <td>0.999104</td>\n    </tr>\n    <tr>\n      <th>...</th>\n      <td>...</td>\n      <td>...</td>\n      <td>...</td>\n    </tr>\n    <tr>\n      <th>401277</th>\n      <td>kann jeder deutscher werden ,kein problem sola...</td>\n      <td>grüne</td>\n      <td>0.882378</td>\n    </tr>\n    <tr>\n      <th>401278</th>\n      <td>dann nimm die leute bei dir auf und verpflege ...</td>\n      <td>spd</td>\n      <td>0.999311</td>\n    </tr>\n    <tr>\n      <th>401279</th>\n      <td>als staatenloser hatt mans aber auch nicht lei...</td>\n      <td>die linke</td>\n      <td>0.997392</td>\n    </tr>\n    <tr>\n      <th>401280</th>\n      <td>wann kommt der blackout? kinder könnt ihr ja e...</td>\n      <td>afd</td>\n      <td>0.901219</td>\n    </tr>\n    <tr>\n      <th>401281</th>\n      <td>den blackout auf den du wartest, wird es nur g...</td>\n      <td>cdu/csu</td>\n      <td>0.997556</td>\n    </tr>\n  </tbody>\n</table>\n<p>401282 rows × 3 columns</p>\n</div>"
     },
     "metadata": {},
     "output_type": "display_data"
    }
   ],
   "source": [
    "comments_df = pd.read_csv(\"data/political_parties.csv\")\n",
    "display(comments_df[[\"Comments\", \"political_party\", \"political_party_score\"]])"
   ],
   "metadata": {
    "collapsed": false,
    "pycharm": {
     "name": "#%%\n"
    }
   }
  },
  {
   "cell_type": "markdown",
   "source": [
    "The results of this model are very interesting. Most comments are attributed to the \"CDU\", which is hardly surprising since this is one of the two major parties in Germany. This is followed by the \"AFD\" with 24%, which is very interesting, as this party is actually much less widespread and usually ranks lower in the elections. In the third place is \"Die Linke\", which is also interesting because this party is a very small party and this party, like the \"AFD\", is one of the more extreme parties. If we look at the other parties it is hardly surprising that \"Die Grünen\" and the \"FDP\" are in the lower positions. It is more surprising, however, that the \"SPD\" is in the second last place with only 8%. The \"SPD\" is the other major party in Germany besides the \"CDU\" and part of the current government, which is why one would expect much more approval here. In general, it can be said that with the CDU and the AFD in the first two places, conservative views clearly dominate, especially since they together account for 59%. The fact that \"Die Linke\" follows in third place also suggests that extremist opinions and views are also strongly represented, while the moderate centre is underrepresented."
   ],
   "metadata": {
    "collapsed": false,
    "pycharm": {
     "name": "#%% md\n"
    }
   }
  },
  {
   "cell_type": "code",
   "execution_count": 10,
   "outputs": [
    {
     "data": {
      "text/plain": "(0.0, 0.5)"
     },
     "execution_count": 10,
     "metadata": {},
     "output_type": "execute_result"
    },
    {
     "data": {
      "text/plain": "<Figure size 640x480 with 1 Axes>",
      "image/png": "[encoded data removed]"
     },
     "metadata": {},
     "output_type": "display_data"
    }
   ],
   "source": [
    "ax = comments_df[\"political_party\"].value_counts(normalize=True).sort_values().plot(kind=\"barh\", title=\"Political parties\")\n",
    "ax.bar_label(ax.containers[0], fmt=\"%.2f\")\n",
    "ax.set_xlim(0,0.5)"
   ],
   "metadata": {
    "collapsed": false,
    "pycharm": {
     "name": "#%%\n"
    }
   }
  }
 ],
 "metadata": {
  "kernelspec": {
   "display_name": "Python 3",
   "language": "python",
   "name": "python3"
  },
  "language_info": {
   "codemirror_mode": {
    "name": "ipython",
    "version": 2
   },
   "file_extension": ".py",
   "mimetype": "text/x-python",
   "name": "python",
   "nbconvert_exporter": "python",
   "pygments_lexer": "ipython2",
   "version": "2.7.6"
  }
 },
 "nbformat": 4,
 "nbformat_minor": 0
}