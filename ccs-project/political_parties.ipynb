{
 "cells": [
  {
   "cell_type": "markdown",
   "source": [
    "# Political parties"
   ],
   "metadata": {
    "collapsed": false,
    "pycharm": {
     "name": "#%% md\n"
    }
   }
  },
  {
   "cell_type": "code",
   "execution_count": null,
   "outputs": [],
   "source": [
    "import pandas as pd\n",
    "from tqdm import tqdm\n",
    "from transformers import AutoConfig, AutoTokenizer, AutoModelForSequenceClassification\n",
    "import torch\n",
    "from cleantext import clean"
   ],
   "metadata": {
    "collapsed": false,
    "pycharm": {
     "name": "#%%\n",
     "is_executing": true
    }
   }
  },
  {
   "cell_type": "code",
   "execution_count": 6,
   "outputs": [
    {
     "data": {
      "text/plain": "0         wollt ihr jetzt jeden tag einen großen bericht...\n1         wenn scholz alles besser weiss, wieso braucht ...\n2         die grünen hatten früher das peace zeichen als...\n3         der westen ist ein kriegstreiber bis es zu ein...\n4                             frieden schaffen ohne waffen.\n                                ...                        \n406237    kann jeder deutscher werden ,kein problem sola...\n406238    dann nimm die leute bei dir auf und verpflege ...\n406239    als staatenloser hatt mans aber auch nicht lei...\n406240    wann kommt der blackout? kinder könnt ihr ja e...\n406241    den blackout auf den du wartest, wird es nur g...\nName: Comments, Length: 401282, dtype: object"
     },
     "execution_count": 6,
     "metadata": {},
     "output_type": "execute_result"
    }
   ],
   "source": [
    "comments_df = pd.read_csv(\"data/youtube_comments_500.csv\")\n",
    "comments_df[\"Comments\"] = comments_df[\"Comments\"].astype(str)\n",
    "\n",
    "def clean_text(text:str):\n",
    "    text = clean(text, no_emoji=True, lang=\"de\")\n",
    "    new_text = []\n",
    "    for token in text.split(\" \"):\n",
    "        if not token.startswith('@') and not token.startswith('http'):\n",
    "            new_text.append(token)\n",
    "    return \" \".join(new_text)\n",
    "\n",
    "comments_df[\"Comments\"] = comments_df[\"Comments\"].apply(lambda text: clean_text(text))\n",
    "comments_df =comments_df[comments_df.Comments != \"\"]\n",
    "comments_df[\"Comments\"]"
   ],
   "metadata": {
    "collapsed": false,
    "pycharm": {
     "name": "#%%\n"
    }
   }
  },
  {
   "cell_type": "code",
   "execution_count": null,
   "outputs": [],
   "source": [
    "model_name = \"UHH-CI/GermanPolitical-Gelectra-base\"\n",
    "sentiment_tokenizer = AutoTokenizer.from_pretrained(model_name)\n",
    "sentiment_model_config = AutoConfig.from_pretrained(model_name)\n",
    "sentiment_model = AutoModelForSequenceClassification.from_pretrained(model_name, from_tf=True)\n",
    "\n",
    "label_list = []\n",
    "score_list = []\n",
    "\n",
    "political_parties = [\"cdu/csu\",\"spd\",\"fdp\",\"grüne\",\"die linke\",\"afd\"]\n",
    "\n",
    "for text in tqdm(comments_df.Comments.to_list()):\n",
    "    top_party_name = \"\"\n",
    "    top_party_score = 0\n",
    "    for party in political_parties:\n",
    "        input_text = party+\": \"+text\n",
    "        tokenized_input = sentiment_tokenizer(input_text, padding=True, truncation=True, return_tensors='pt', max_length=512)\n",
    "        output = sentiment_model(**tokenized_input)\n",
    "        prediction = torch.nn.functional.softmax(output.logits, dim=-1)\n",
    "        prediction = prediction.detach().numpy()[0]\n",
    "        if top_party_score < prediction[0]: # label[0] indicates the value for the consent\n",
    "            top_party_name = party\n",
    "            top_party_score = prediction[0]\n",
    "\n",
    "    label_list.append(top_party_name)\n",
    "    score_list.append(top_party_score)\n",
    "\n",
    "comments_df[\"political_party\"] = label_list\n",
    "comments_df[\"political_party_score\"] = score_list\n",
    "comments_df.to_csv(\"data/political_parties.csv\")"
   ],
   "metadata": {
    "collapsed": false,
    "pycharm": {
     "name": "#%%\n",
     "is_executing": true
    }
   }
  },
  {
   "cell_type": "code",
   "execution_count": 9,
   "outputs": [
    {
     "data": {
      "text/plain": "                                                 Comments political_party  \\\n0       wollt ihr jetzt jeden tag einen großen bericht...       die linke   \n1       wenn scholz alles besser weiss, wieso braucht ...             spd   \n2       die grünen hatten früher das peace zeichen als...             afd   \n3       der westen ist ein kriegstreiber bis es zu ein...         cdu/csu   \n4                           frieden schaffen ohne waffen.       die linke   \n...                                                   ...             ...   \n401277  kann jeder deutscher werden ,kein problem sola...           grüne   \n401278  dann nimm die leute bei dir auf und verpflege ...             spd   \n401279  als staatenloser hatt mans aber auch nicht lei...       die linke   \n401280  wann kommt der blackout? kinder könnt ihr ja e...             afd   \n401281  den blackout auf den du wartest, wird es nur g...         cdu/csu   \n\n        political_party_score  \n0                    0.498146  \n1                    0.922301  \n2                    0.629976  \n3                    0.999133  \n4                    0.999104  \n...                       ...  \n401277               0.882378  \n401278               0.999311  \n401279               0.997392  \n401280               0.901219  \n401281               0.997556  \n\n[401282 rows x 3 columns]",
      "text/html": "<div>\n<style scoped>\n    .dataframe tbody tr th:only-of-type {\n        vertical-align: middle;\n    }\n\n    .dataframe tbody tr th {\n        vertical-align: top;\n    }\n\n    .dataframe thead th {\n        text-align: right;\n    }\n</style>\n<table border=\"1\" class=\"dataframe\">\n  <thead>\n    <tr style=\"text-align: right;\">\n      <th></th>\n      <th>Comments</th>\n      <th>political_party</th>\n      <th>political_party_score</th>\n    </tr>\n  </thead>\n  <tbody>\n    <tr>\n      <th>0</th>\n      <td>wollt ihr jetzt jeden tag einen großen bericht...</td>\n      <td>die linke</td>\n      <td>0.498146</td>\n    </tr>\n    <tr>\n      <th>1</th>\n      <td>wenn scholz alles besser weiss, wieso braucht ...</td>\n      <td>spd</td>\n      <td>0.922301</td>\n    </tr>\n    <tr>\n      <th>2</th>\n      <td>die grünen hatten früher das peace zeichen als...</td>\n      <td>afd</td>\n      <td>0.629976</td>\n    </tr>\n    <tr>\n      <th>3</th>\n      <td>der westen ist ein kriegstreiber bis es zu ein...</td>\n      <td>cdu/csu</td>\n      <td>0.999133</td>\n    </tr>\n    <tr>\n      <th>4</th>\n      <td>frieden schaffen ohne waffen.</td>\n      <td>die linke</td>\n      <td>0.999104</td>\n    </tr>\n    <tr>\n      <th>...</th>\n      <td>...</td>\n      <td>...</td>\n      <td>...</td>\n    </tr>\n    <tr>\n      <th>401277</th>\n      <td>kann jeder deutscher werden ,kein problem sola...</td>\n      <td>grüne</td>\n      <td>0.882378</td>\n    </tr>\n    <tr>\n      <th>401278</th>\n      <td>dann nimm die leute bei dir auf und verpflege ...</td>\n      <td>spd</td>\n      <td>0.999311</td>\n    </tr>\n    <tr>\n      <th>401279</th>\n      <td>als staatenloser hatt mans aber auch nicht lei...</td>\n      <td>die linke</td>\n      <td>0.997392</td>\n    </tr>\n    <tr>\n      <th>401280</th>\n      <td>wann kommt der blackout? kinder könnt ihr ja e...</td>\n      <td>afd</td>\n      <td>0.901219</td>\n    </tr>\n    <tr>\n      <th>401281</th>\n      <td>den blackout auf den du wartest, wird es nur g...</td>\n      <td>cdu/csu</td>\n      <td>0.997556</td>\n    </tr>\n  </tbody>\n</table>\n<p>401282 rows × 3 columns</p>\n</div>"
     },
     "metadata": {},
     "output_type": "display_data"
    }
   ],
   "source": [
    "comments_df = pd.read_csv(\"data/political_parties.csv\")\n",
    "display(comments_df[[\"Comments\", \"political_party\", \"political_party_score\"]])"
   ],
   "metadata": {
    "collapsed": false,
    "pycharm": {
     "name": "#%%\n"
    }
   }
  },
  {
   "cell_type": "code",
   "execution_count": 13,
   "outputs": [
    {
     "data": {
      "text/plain": "(0.0, 0.5)"
     },
     "execution_count": 13,
     "metadata": {},
     "output_type": "execute_result"
    },
    {
     "data": {
      "text/plain": "<Figure size 640x480 with 1 Axes>",
      "image/png": "[encoded data removed]"
     },
     "metadata": {},
     "output_type": "display_data"
    }
   ],
   "source": [
    "ax = comments_df[\"political_party\"].value_counts(normalize=True).sort_values().plot(kind=\"barh\", title=\"Political parties\")\n",
    "ax.bar_label(ax.containers[0])\n",
    "ax.set_xlim(0,0.5)"
   ],
   "metadata": {
    "collapsed": false,
    "pycharm": {
     "name": "#%%\n"
    }
   }
  }
 ],
 "metadata": {
  "kernelspec": {
   "display_name": "Python 3",
   "language": "python",
   "name": "python3"
  },
  "language_info": {
   "codemirror_mode": {
    "name": "ipython",
    "version": 2
   },
   "file_extension": ".py",
   "mimetype": "text/x-python",
   "name": "python",
   "nbconvert_exporter": "python",
   "pygments_lexer": "ipython2",
   "version": "2.7.6"
  }
 },
 "nbformat": 4,
 "nbformat_minor": 0
}