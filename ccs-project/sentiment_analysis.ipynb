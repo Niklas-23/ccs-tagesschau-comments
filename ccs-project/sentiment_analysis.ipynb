{
 "cells": [
  {
   "cell_type": "markdown",
   "source": [
    "# Sentiment analysis\n",
    "\n",
    "The third methods used to answer the research questions are transformers for text classification. Transformers are a relatively new technology in the NLP field and enable analyses that were not so easily possible before {cite:p}`atteveldt_computational_2022`. At the same time, they can perform analyses such as sentiment analysis much better and more precisely than it would be possible with a dictionary-based approach, for example {cite:p}`vaswani_attention`. The key component of transformers is the self-attention mechanism, which allows the model to weight different parts of a sequence dynamically, rather than relying on a fixed window size as in traditional RNNs or CNNs {cite:p}`vaswani_attention`. We are going to use a transfoer to analyse the sentiment of the comments.\n",
    "\n",
    "For this project the Hugging Face library is used, which provides pretrained state of th art models for many different application areas. Will we use a BERT based model that was trained on 1.8 million German-language samples {cite:p}`german_sentiment` to perform sentiment analysis. The model has three labels for the sentiment: positive, neutral and negative."
   ],
   "metadata": {
    "collapsed": false,
    "pycharm": {
     "name": "#%% md\n"
    }
   }
  },
  {
   "cell_type": "code",
   "execution_count": null,
   "outputs": [],
   "source": [
    "import pandas as pd\n",
    "from tqdm import tqdm\n",
    "from transformers import AutoConfig, AutoTokenizer, AutoModelForSequenceClassification\n",
    "import torch\n",
    "import numpy as np\n",
    "from cleantext import clean"
   ],
   "metadata": {
    "collapsed": false,
    "pycharm": {
     "name": "#%%\n",
     "is_executing": true
    }
   }
  },
  {
   "cell_type": "markdown",
   "source": [
    "One advantage of transformers is that they usually require little preprocessing. After loading the comments, the emojis are removed from the comments first. In addition, all URLs and mentions are removed, as it is very unlikely that the model can do anything with this information. At the end, as in previous analyses, empty comments are removed."
   ],
   "metadata": {
    "collapsed": false,
    "pycharm": {
     "name": "#%% md\n"
    }
   }
  },
  {
   "cell_type": "code",
   "execution_count": 9,
   "outputs": [
    {
     "data": {
      "text/plain": "        Unnamed: 0                                           Comments\n0                0  wollt ihr jetzt jeden tag einen großen bericht...\n1                1  wenn scholz alles besser weiss, wieso braucht ...\n2                2  die grünen hatten früher das peace zeichen als...\n3                3  der westen ist ein kriegstreiber bis es zu ein...\n4                4                      frieden schaffen ohne waffen.\n...            ...                                                ...\n406237      406237  kann jeder deutscher werden ,kein problem sola...\n406238      406238  dann nimm die leute bei dir auf und verpflege ...\n406239      406239  als staatenloser hatt mans aber auch nicht lei...\n406240      406240  wann kommt der blackout? kinder könnt ihr ja e...\n406241      406241  den blackout auf den du wartest, wird es nur g...\n\n[401282 rows x 2 columns]",
      "text/html": "<div>\n<style scoped>\n    .dataframe tbody tr th:only-of-type {\n        vertical-align: middle;\n    }\n\n    .dataframe tbody tr th {\n        vertical-align: top;\n    }\n\n    .dataframe thead th {\n        text-align: right;\n    }\n</style>\n<table border=\"1\" class=\"dataframe\">\n  <thead>\n    <tr style=\"text-align: right;\">\n      <th></th>\n      <th>Unnamed: 0</th>\n      <th>Comments</th>\n    </tr>\n  </thead>\n  <tbody>\n    <tr>\n      <th>0</th>\n      <td>0</td>\n      <td>wollt ihr jetzt jeden tag einen großen bericht...</td>\n    </tr>\n    <tr>\n      <th>1</th>\n      <td>1</td>\n      <td>wenn scholz alles besser weiss, wieso braucht ...</td>\n    </tr>\n    <tr>\n      <th>2</th>\n      <td>2</td>\n      <td>die grünen hatten früher das peace zeichen als...</td>\n    </tr>\n    <tr>\n      <th>3</th>\n      <td>3</td>\n      <td>der westen ist ein kriegstreiber bis es zu ein...</td>\n    </tr>\n    <tr>\n      <th>4</th>\n      <td>4</td>\n      <td>frieden schaffen ohne waffen.</td>\n    </tr>\n    <tr>\n      <th>...</th>\n      <td>...</td>\n      <td>...</td>\n    </tr>\n    <tr>\n      <th>406237</th>\n      <td>406237</td>\n      <td>kann jeder deutscher werden ,kein problem sola...</td>\n    </tr>\n    <tr>\n      <th>406238</th>\n      <td>406238</td>\n      <td>dann nimm die leute bei dir auf und verpflege ...</td>\n    </tr>\n    <tr>\n      <th>406239</th>\n      <td>406239</td>\n      <td>als staatenloser hatt mans aber auch nicht lei...</td>\n    </tr>\n    <tr>\n      <th>406240</th>\n      <td>406240</td>\n      <td>wann kommt der blackout? kinder könnt ihr ja e...</td>\n    </tr>\n    <tr>\n      <th>406241</th>\n      <td>406241</td>\n      <td>den blackout auf den du wartest, wird es nur g...</td>\n    </tr>\n  </tbody>\n</table>\n<p>401282 rows × 2 columns</p>\n</div>"
     },
     "metadata": {},
     "output_type": "display_data"
    }
   ],
   "source": [
    "comments_df = pd.read_csv(\"data/youtube_comments_500.csv\")\n",
    "comments_df[\"Comments\"] = comments_df[\"Comments\"].astype(str)\n",
    "\n",
    "def clean_text(text:str):\n",
    "    text = clean(text, no_emoji=True, lang=\"de\")\n",
    "    new_text = []\n",
    "    for token in text.split(\" \"):\n",
    "        if not token.startswith('@') and not token.startswith('http'):\n",
    "            new_text.append(token)\n",
    "    return \" \".join(new_text)\n",
    "\n",
    "comments_df[\"Comments\"] = comments_df[\"Comments\"].apply(lambda text: clean_text(text))\n",
    "comments_df =comments_df[comments_df.Comments != \"\"]\n",
    "display(comments_df)"
   ],
   "metadata": {
    "collapsed": false,
    "pycharm": {
     "name": "#%%\n"
    }
   }
  },
  {
   "cell_type": "markdown",
   "source": [
    "To start the sentiment analysis, the pretrained model is loaded together with the corrsponding tokenizer and model configuration. Then each comment is processed sequentially. First the input is tokenized and then passed to the model. The output of the model contains logits and is therefore converted into probabilities using the softmax function. Then the output is converted from a tensor into a numpy array in order to extract the label with with highest proability in the next step. To get the label with the highest proability the output list is first sorted. The numpy function argsort is used to sort the list and to get the index (and not the sorted values). Then the order of the sorting is reversed (`[::-1]`) and the first element is selected so that the index of the label with the highest probability is obtained. The corresponding confidence value is also stored. At the end all results are added to the dataframe and saved. When looking at the first lines of the dataframe, it can be seen that everything has worked."
   ],
   "metadata": {
    "collapsed": false,
    "pycharm": {
     "name": "#%% md\n"
    }
   }
  },
  {
   "cell_type": "code",
   "execution_count": null,
   "outputs": [],
   "source": [
    "model_name = \"oliverguhr/german-sentiment-bert\"\n",
    "sentiment_tokenizer = AutoTokenizer.from_pretrained(model_name)\n",
    "sentiment_model_config = AutoConfig.from_pretrained(model_name)\n",
    "sentiment_model = AutoModelForSequenceClassification.from_pretrained(model_name)\n",
    "\n",
    "label_list = []\n",
    "score_list = []\n",
    "\n",
    "for text in tqdm(comments_df.Comments.to_list()):\n",
    "    tokenized_input = sentiment_tokenizer(text, padding=True, truncation=True, return_tensors='pt', max_length=512)\n",
    "    output = sentiment_model(**tokenized_input)\n",
    "    predictions = torch.nn.functional.softmax(output.logits, dim=-1)\n",
    "    predictions = predictions.detach().numpy()[0]\n",
    "    label_list.append(sentiment_model_config.id2label[np.argsort(predictions)[::-1][0]])\n",
    "    score_list.append(max(predictions))\n",
    "\n",
    "comments_df[\"sentiment\"] = label_list\n",
    "comments_df[\"sentiment_score\"] = score_list\n",
    "comments_df.to_csv(\"data/sentiments.csv\", index=False)"
   ],
   "metadata": {
    "collapsed": false,
    "pycharm": {
     "name": "#%%\n",
     "is_executing": true
    }
   }
  },
  {
   "cell_type": "code",
   "execution_count": 5,
   "outputs": [
    {
     "data": {
      "text/plain": "   Unnamed: 0                                           Comments sentiment  \\\n0           0  wollt ihr jetzt jeden tag einen großen bericht...  negative   \n1           1  wenn scholz alles besser weiss, wieso braucht ...   neutral   \n2           2  die grünen hatten früher das peace zeichen als...  negative   \n3           3  der westen ist ein kriegstreiber bis es zu ein...   neutral   \n4           4                      frieden schaffen ohne waffen.   neutral   \n5           5  donnor, dann sag putin, er soll aus der ukrain...   neutral   \n6           6  kanal sahra wagenknecht: erst panzer, dann kam...  negative   \n7           7  donnor, beweis deine behauptung, die ukraine w...  negative   \n8           8  deutschland wird mit der lieferung nichts gute...   neutral   \n9           9  warum? frieden schaffen mit waffen. denk mal a...   neutral   \n\n   sentiment_score  \n0         0.997865  \n1         0.966083  \n2         0.984363  \n3         0.998064  \n4         0.995086  \n5         0.998752  \n6         0.938369  \n7         0.985598  \n8         0.991995  \n9         0.877570  ",
      "text/html": "<div>\n<style scoped>\n    .dataframe tbody tr th:only-of-type {\n        vertical-align: middle;\n    }\n\n    .dataframe tbody tr th {\n        vertical-align: top;\n    }\n\n    .dataframe thead th {\n        text-align: right;\n    }\n</style>\n<table border=\"1\" class=\"dataframe\">\n  <thead>\n    <tr style=\"text-align: right;\">\n      <th></th>\n      <th>Unnamed: 0</th>\n      <th>Comments</th>\n      <th>sentiment</th>\n      <th>sentiment_score</th>\n    </tr>\n  </thead>\n  <tbody>\n    <tr>\n      <th>0</th>\n      <td>0</td>\n      <td>wollt ihr jetzt jeden tag einen großen bericht...</td>\n      <td>negative</td>\n      <td>0.997865</td>\n    </tr>\n    <tr>\n      <th>1</th>\n      <td>1</td>\n      <td>wenn scholz alles besser weiss, wieso braucht ...</td>\n      <td>neutral</td>\n      <td>0.966083</td>\n    </tr>\n    <tr>\n      <th>2</th>\n      <td>2</td>\n      <td>die grünen hatten früher das peace zeichen als...</td>\n      <td>negative</td>\n      <td>0.984363</td>\n    </tr>\n    <tr>\n      <th>3</th>\n      <td>3</td>\n      <td>der westen ist ein kriegstreiber bis es zu ein...</td>\n      <td>neutral</td>\n      <td>0.998064</td>\n    </tr>\n    <tr>\n      <th>4</th>\n      <td>4</td>\n      <td>frieden schaffen ohne waffen.</td>\n      <td>neutral</td>\n      <td>0.995086</td>\n    </tr>\n    <tr>\n      <th>5</th>\n      <td>5</td>\n      <td>donnor, dann sag putin, er soll aus der ukrain...</td>\n      <td>neutral</td>\n      <td>0.998752</td>\n    </tr>\n    <tr>\n      <th>6</th>\n      <td>6</td>\n      <td>kanal sahra wagenknecht: erst panzer, dann kam...</td>\n      <td>negative</td>\n      <td>0.938369</td>\n    </tr>\n    <tr>\n      <th>7</th>\n      <td>7</td>\n      <td>donnor, beweis deine behauptung, die ukraine w...</td>\n      <td>negative</td>\n      <td>0.985598</td>\n    </tr>\n    <tr>\n      <th>8</th>\n      <td>8</td>\n      <td>deutschland wird mit der lieferung nichts gute...</td>\n      <td>neutral</td>\n      <td>0.991995</td>\n    </tr>\n    <tr>\n      <th>9</th>\n      <td>9</td>\n      <td>warum? frieden schaffen mit waffen. denk mal a...</td>\n      <td>neutral</td>\n      <td>0.877570</td>\n    </tr>\n  </tbody>\n</table>\n</div>"
     },
     "execution_count": 5,
     "metadata": {},
     "output_type": "execute_result"
    }
   ],
   "source": [
    "comments = pd.read_csv(\"data/sentiments.csv\")\n",
    "comments.head(10)"
   ],
   "metadata": {
    "collapsed": false,
    "pycharm": {
     "name": "#%%\n"
    }
   }
  },
  {
   "cell_type": "markdown",
   "source": [
    "The results can now be visualised with the help of a bar chart. It can be seen that most comments are negative (49%), followed by neutral comments (42%). With 8%, only very few comments are positive. It can be concluded from this that the overall sentiment in the comments section is clearly negative."
   ],
   "metadata": {
    "collapsed": false,
    "pycharm": {
     "name": "#%% md\n"
    }
   }
  },
  {
   "cell_type": "code",
   "execution_count": 8,
   "outputs": [
    {
     "data": {
      "text/plain": "(0.0, 0.65)"
     },
     "execution_count": 8,
     "metadata": {},
     "output_type": "execute_result"
    },
    {
     "data": {
      "text/plain": "<Figure size 640x480 with 1 Axes>",
      "image/png": "[encoded data removed]"
     },
     "metadata": {},
     "output_type": "display_data"
    }
   ],
   "source": [
    "ax = comments[\"sentiment\"].value_counts(normalize=True).sort_values().plot(kind=\"barh\", title=\"Sentiment model\")\n",
    "ax.bar_label(ax.containers[0], fmt=\"%.2f\")\n",
    "ax.set_xlim(0,0.65)"
   ],
   "metadata": {
    "collapsed": false,
    "pycharm": {
     "name": "#%%\n"
    }
   }
  }
 ],
 "metadata": {
  "kernelspec": {
   "display_name": "Python 3",
   "language": "python",
   "name": "python3"
  },
  "language_info": {
   "codemirror_mode": {
    "name": "ipython",
    "version": 2
   },
   "file_extension": ".py",
   "mimetype": "text/x-python",
   "name": "python",
   "nbconvert_exporter": "python",
   "pygments_lexer": "ipython2",
   "version": "2.7.6"
  }
 },
 "nbformat": 4,
 "nbformat_minor": 0
}